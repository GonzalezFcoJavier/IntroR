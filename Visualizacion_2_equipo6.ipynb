{
  "nbformat": 4,
  "nbformat_minor": 0,
  "metadata": {
    "colab": {
      "name": "Visualizacion_equipo6.ipynb",
      "provenance": [],
      "include_colab_link": true
    },
    "kernelspec": {
      "name": "python3",
      "display_name": "Python 3"
    },
    "language_info": {
      "name": "python"
    }
  },
  "cells": [
    {
      "cell_type": "markdown",
      "metadata": {
        "id": "view-in-github",
        "colab_type": "text"
      },
      "source": [
        "<a href=\"https://colab.research.google.com/github/GonzalezFcoJavier/IntroR/blob/master/Visualizacion_2_equipo6.ipynb\" target=\"_parent\"><img src=\"https://colab.research.google.com/assets/colab-badge.svg\" alt=\"Open In Colab\"/></a>"
      ]
    },
    {
      "cell_type": "markdown",
      "metadata": {
        "id": "5FIlBxXV8twE"
      },
      "source": [
        "#Práctica II: Visualización de datos\n",
        "Equipo 6 \n",
        "\n",
        "1869524 Luis Said Martinez Hernandez\n",
        "\n",
        "1687417 Francisco Javier Gonzales Olivares\n",
        "\n",
        "1817336 Edmundo Isaí Ibarra cavazos\n",
        "\n",
        "1838148 Raúl Flores Robles"
      ]
    },
    {
      "cell_type": "code",
      "metadata": {
        "colab": {
          "resources": {
            "http://localhost:8080/nbextensions/google.colab/files.js": {
              "data": "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",
              "ok": true,
              "headers": [
                [
                  "content-type",
                  "application/javascript"
                ]
              ],
              "status": 200,
              "status_text": ""
            }
          },
          "base_uri": "https://localhost:8080/",
          "height": 110
        },
        "id": "Y7xveBwUMNvt",
        "outputId": "2c664330-4a44-4322-c176-1df853353ad2"
      },
      "source": [
        "import pandas as pd\n",
        "pd.plotting.register_matplotlib_converters()\n",
        "import matplotlib.pyplot as plt\n",
        "%matplotlib inline\n",
        "import seaborn as sns\n",
        " \n",
        "from google.colab import files\n",
        "files.upload()"
      ],
      "execution_count": null,
      "outputs": [
        {
          "output_type": "display_data",
          "data": {
            "text/html": [
              "\n",
              "     <input type=\"file\" id=\"files-e2266601-d66b-4dac-b4c3-da21e1dbbaa1\" name=\"files[]\" multiple disabled\n",
              "        style=\"border:none\" />\n",
              "     <output id=\"result-e2266601-d66b-4dac-b4c3-da21e1dbbaa1\">\n",
              "      Upload widget is only available when the cell has been executed in the\n",
              "      current browser session. Please rerun this cell to enable.\n",
              "      </output>\n",
              "      <script src=\"/nbextensions/google.colab/files.js\"></script> "
            ],
            "text/plain": [
              "<IPython.core.display.HTML object>"
            ]
          },
          "metadata": {}
        },
        {
          "output_type": "stream",
          "name": "stdout",
          "text": [
            "Saving mat-grades.csv to mat-grades.csv\n"
          ]
        },
        {
          "output_type": "execute_result",
          "data": {
            "text/plain": [
              "{'mat-grades.csv': b'G1,G2,G3\\r\\n5,6,6\\r\\n5,5,6\\r\\n7,8,10\\r\\n15,14,15\\r\\n6,10,10\\r\\n15,15,15\\r\\n12,12,11\\r\\n6,5,6\\r\\n16,18,19\\r\\n14,15,15\\r\\n10,8,9\\r\\n10,12,12\\r\\n14,14,14\\r\\n10,10,11\\r\\n14,16,16\\r\\n14,14,14\\r\\n13,14,14\\r\\n8,10,10\\r\\n6,5,5\\r\\n8,10,10\\r\\n13,14,15\\r\\n12,15,15\\r\\n15,15,16\\r\\n13,13,12\\r\\n10,9,8\\r\\n6,9,8\\r\\n12,12,11\\r\\n15,16,15\\r\\n11,11,11\\r\\n10,12,11\\r\\n9,11,12\\r\\n17,16,17\\r\\n17,16,16\\r\\n8,10,12\\r\\n12,14,15\\r\\n8,7,6\\r\\n15,16,18\\r\\n15,16,15\\r\\n12,12,11\\r\\n14,13,13\\r\\n7,10,11\\r\\n12,12,12\\r\\n19,18,18\\r\\n8,8,11\\r\\n10,10,9\\r\\n8,8,6\\r\\n11,12,11\\r\\n19,19,20\\r\\n15,15,14\\r\\n7,7,7\\r\\n12,13,13\\r\\n11,13,13\\r\\n11,11,10\\r\\n8,10,11\\r\\n10,13,13\\r\\n8,9,10\\r\\n14,15,15\\r\\n14,15,15\\r\\n9,10,9\\r\\n15,16,16\\r\\n10,11,11\\r\\n10,8,11\\r\\n8,10,9\\r\\n10,9,9\\r\\n10,10,10\\r\\n16,15,15\\r\\n13,13,12\\r\\n7,7,6\\r\\n8,9,8\\r\\n16,16,16\\r\\n13,15,15\\r\\n10,10,10\\r\\n8,6,5\\r\\n12,12,14\\r\\n11,12,11\\r\\n9,9,10\\r\\n11,11,10\\r\\n11,11,11\\r\\n8,8,10\\r\\n5,5,5\\r\\n10,12,12\\r\\n11,10,11\\r\\n7,6,6\\r\\n15,15,15\\r\\n9,10,10\\r\\n7,9,8\\r\\n8,7,6\\r\\n13,14,14\\r\\n11,10,10\\r\\n8,6,7\\r\\n7,7,8\\r\\n16,17,18\\r\\n7,6,6\\r\\n11,10,10\\r\\n11,13,14\\r\\n7,10,10\\r\\n11,15,15\\r\\n8,9,10\\r\\n11,14,14\\r\\n7,9,8\\r\\n7,7,5\\r\\n16,17,17\\r\\n10,13,14\\r\\n7,6,6\\r\\n16,18,18\\r\\n10,11,11\\r\\n7,8,8\\r\\n16,18,18\\r\\n10,13,13\\r\\n14,15,16\\r\\n18,19,19\\r\\n7,10,10\\r\\n10,13,13\\r\\n18,19,19\\r\\n9,9,9\\r\\n15,15,16\\r\\n11,13,14\\r\\n13,14,13\\r\\n9,7,8\\r\\n14,13,13\\r\\n16,15,15\\r\\n16,14,15\\r\\n13,13,13\\r\\n14,11,13\\r\\n8,7,8\\r\\n13,13,12\\r\\n7,10,11\\r\\n7,8,9\\r\\n7,4,0\\r\\n18,18,18\\r\\n12,0,0\\r\\n8,0,0\\r\\n10,13,12\\r\\n12,11,11\\r\\n9,0,0\\r\\n11,0,0\\r\\n10,0,0\\r\\n4,0,0\\r\\n14,12,12\\r\\n16,16,15\\r\\n7,9,0\\r\\n9,9,9\\r\\n9,11,11\\r\\n14,14,13\\r\\n5,0,0\\r\\n8,11,11\\r\\n6,7,0\\r\\n10,11,11\\r\\n7,6,0\\r\\n8,9,10\\r\\n6,5,0\\r\\n12,13,14\\r\\n10,10,10\\r\\n5,0,0\\r\\n11,11,12\\r\\n11,8,8\\r\\n16,12,13\\r\\n9,8,10\\r\\n17,15,15\\r\\n10,12,12\\r\\n7,6,0\\r\\n5,9,7\\r\\n7,0,0\\r\\n10,10,10\\r\\n5,8,7\\r\\n12,11,12\\r\\n10,10,10\\r\\n14,15,16\\r\\n6,7,0\\r\\n14,14,14\\r\\n6,5,0\\r\\n13,15,16\\r\\n13,11,10\\r\\n8,7,0\\r\\n10,11,9\\r\\n10,9,9\\r\\n13,13,11\\r\\n6,5,6\\r\\n10,8,9\\r\\n10,10,11\\r\\n9,8,8\\r\\n12,13,12\\r\\n16,17,17\\r\\n9,9,8\\r\\n12,13,12\\r\\n12,12,11\\r\\n11,12,11\\r\\n15,15,15\\r\\n8,7,9\\r\\n8,9,10\\r\\n11,12,13\\r\\n8,8,9\\r\\n7,8,8\\r\\n8,9,10\\r\\n13,14,14\\r\\n14,15,15\\r\\n17,15,16\\r\\n9,9,10\\r\\n18,18,18\\r\\n9,9,10\\r\\n16,16,16\\r\\n8,10,10\\r\\n9,9,10\\r\\n7,6,6\\r\\n10,10,11\\r\\n10,9,9\\r\\n7,7,7\\r\\n11,12,13\\r\\n9,9,10\\r\\n7,7,7\\r\\n8,8,8\\r\\n12,12,13\\r\\n12,13,14\\r\\n6,7,8\\r\\n8,10,10\\r\\n14,15,15\\r\\n6,6,4\\r\\n6,6,8\\r\\n7,7,8\\r\\n9,10,10\\r\\n6,6,6\\r\\n6,5,0\\r\\n16,16,17\\r\\n12,13,13\\r\\n13,13,14\\r\\n9,8,7\\r\\n16,15,15\\r\\n12,11,12\\r\\n10,8,9\\r\\n12,10,12\\r\\n13,13,14\\r\\n11,11,11\\r\\n11,9,9\\r\\n14,13,13\\r\\n9,7,6\\r\\n11,9,10\\r\\n14,13,13\\r\\n13,12,12\\r\\n13,11,11\\r\\n7,7,0\\r\\n12,12,12\\r\\n10,11,12\\r\\n6,0,0\\r\\n13,12,12\\r\\n7,0,0\\r\\n18,18,18\\r\\n12,12,13\\r\\n6,8,8\\r\\n3,5,5\\r\\n13,15,15\\r\\n6,8,8\\r\\n7,10,10\\r\\n6,9,8\\r\\n8,9,8\\r\\n8,12,12\\r\\n7,9,8\\r\\n14,12,13\\r\\n11,11,11\\r\\n15,14,14\\r\\n10,9,0\\r\\n17,18,18\\r\\n8,8,8\\r\\n13,12,12\\r\\n10,9,9\\r\\n9,10,0\\r\\n17,17,17\\r\\n9,9,10\\r\\n12,10,11\\r\\n10,9,10\\r\\n6,0,0\\r\\n9,9,9\\r\\n15,14,14\\r\\n11,11,11\\r\\n15,14,14\\r\\n10,10,10\\r\\n12,12,12\\r\\n10,9,9\\r\\n9,9,9\\r\\n9,8,8\\r\\n10,11,10\\r\\n8,8,8\\r\\n11,9,10\\r\\n12,12,12\\r\\n8,9,10\\r\\n10,9,11\\r\\n12,10,11\\r\\n18,18,19\\r\\n13,12,12\\r\\n15,14,14\\r\\n15,13,15\\r\\n12,11,11\\r\\n15,15,15\\r\\n12,12,13\\r\\n18,18,18\\r\\n14,13,14\\r\\n14,12,11\\r\\n10,9,0\\r\\n10,8,8\\r\\n14,13,14\\r\\n16,15,16\\r\\n12,10,11\\r\\n11,11,10\\r\\n15,12,14\\r\\n17,17,18\\r\\n15,14,13\\r\\n14,12,12\\r\\n17,18,18\\r\\n8,9,8\\r\\n15,12,12\\r\\n12,10,10\\r\\n9,9,0\\r\\n14,12,13\\r\\n13,11,11\\r\\n13,10,11\\r\\n15,13,13\\r\\n13,11,11\\r\\n8,8,0\\r\\n9,10,9\\r\\n11,11,10\\r\\n11,11,11\\r\\n13,13,13\\r\\n11,9,9\\r\\n11,11,11\\r\\n12,14,15\\r\\n16,15,15\\r\\n9,12,11\\r\\n14,15,16\\r\\n11,10,10\\r\\n10,9,9\\r\\n14,14,14\\r\\n9,8,8\\r\\n12,14,14\\r\\n7,0,0\\r\\n8,8,0\\r\\n10,9,0\\r\\n16,15,15\\r\\n14,13,13\\r\\n7,8,0\\r\\n16,15,17\\r\\n9,10,10\\r\\n11,12,11\\r\\n10,10,0\\r\\n16,15,15\\r\\n9,8,0\\r\\n11,10,10\\r\\n13,13,14\\r\\n16,15,16\\r\\n10,10,9\\r\\n13,15,15\\r\\n11,13,13\\r\\n8,7,8\\r\\n13,13,13\\r\\n8,7,8\\r\\n8,8,8\\r\\n13,11,11\\r\\n10,9,9\\r\\n12,13,13\\r\\n12,12,11\\r\\n10,10,10\\r\\n18,16,16\\r\\n13,13,13\\r\\n13,12,12\\r\\n11,11,10\\r\\n16,15,15\\r\\n12,11,12\\r\\n10,10,10\\r\\n13,13,13\\r\\n7,6,0\\r\\n11,10,10\\r\\n14,12,11\\r\\n7,7,9\\r\\n14,12,12\\r\\n13,11,11\\r\\n6,5,5\\r\\n19,18,19\\r\\n8,8,10\\r\\n15,14,15\\r\\n8,9,10\\r\\n15,15,15\\r\\n10,10,10\\r\\n15,14,14\\r\\n7,6,7\\r\\n11,11,10\\r\\n6,5,0\\r\\n6,5,5\\r\\n10,9,10\\r\\n6,5,6\\r\\n7,5,0\\r\\n7,9,8\\r\\n6,5,0\\r\\n9,9,9\\r\\n14,16,16\\r\\n10,8,7\\r\\n11,12,10\\r\\n8,9,9\\r\\n'}"
            ]
          },
          "metadata": {},
          "execution_count": 113
        }
      ]
    },
    {
      "cell_type": "code",
      "metadata": {
        "colab": {
          "base_uri": "https://localhost:8080/",
          "height": 424
        },
        "id": "2ndLJdXzNWQY",
        "outputId": "0921b18b-fcc2-4773-edbc-7939e0a68aa1"
      },
      "source": [
        "fam_rel = \"student-mat.csv\"\n",
        "\n",
        "fam_data = pd.read_csv(fam_rel, parse_dates=True)\n",
        "\n",
        "df = pd.DataFrame(fam_data, columns = ['age','Medu','Fedu', 'famrel','traveltime','studytime','failures','freetime','goout','Dalc','Walc','health','absences','G1','G2','G3'])\n",
        "\n",
        "df"
      ],
      "execution_count": null,
      "outputs": [
        {
          "output_type": "execute_result",
          "data": {
            "text/html": [
              "<div>\n",
              "<style scoped>\n",
              "    .dataframe tbody tr th:only-of-type {\n",
              "        vertical-align: middle;\n",
              "    }\n",
              "\n",
              "    .dataframe tbody tr th {\n",
              "        vertical-align: top;\n",
              "    }\n",
              "\n",
              "    .dataframe thead th {\n",
              "        text-align: right;\n",
              "    }\n",
              "</style>\n",
              "<table border=\"1\" class=\"dataframe\">\n",
              "  <thead>\n",
              "    <tr style=\"text-align: right;\">\n",
              "      <th></th>\n",
              "      <th>age</th>\n",
              "      <th>Medu</th>\n",
              "      <th>Fedu</th>\n",
              "      <th>famrel</th>\n",
              "      <th>traveltime</th>\n",
              "      <th>studytime</th>\n",
              "      <th>failures</th>\n",
              "      <th>freetime</th>\n",
              "      <th>goout</th>\n",
              "      <th>Dalc</th>\n",
              "      <th>Walc</th>\n",
              "      <th>health</th>\n",
              "      <th>absences</th>\n",
              "      <th>G1</th>\n",
              "      <th>G2</th>\n",
              "      <th>G3</th>\n",
              "    </tr>\n",
              "  </thead>\n",
              "  <tbody>\n",
              "    <tr>\n",
              "      <th>0</th>\n",
              "      <td>18</td>\n",
              "      <td>4</td>\n",
              "      <td>4</td>\n",
              "      <td>4</td>\n",
              "      <td>2</td>\n",
              "      <td>2</td>\n",
              "      <td>0</td>\n",
              "      <td>3</td>\n",
              "      <td>4</td>\n",
              "      <td>1</td>\n",
              "      <td>1</td>\n",
              "      <td>3</td>\n",
              "      <td>6</td>\n",
              "      <td>5</td>\n",
              "      <td>6</td>\n",
              "      <td>6</td>\n",
              "    </tr>\n",
              "    <tr>\n",
              "      <th>1</th>\n",
              "      <td>17</td>\n",
              "      <td>1</td>\n",
              "      <td>1</td>\n",
              "      <td>5</td>\n",
              "      <td>1</td>\n",
              "      <td>2</td>\n",
              "      <td>0</td>\n",
              "      <td>3</td>\n",
              "      <td>3</td>\n",
              "      <td>1</td>\n",
              "      <td>1</td>\n",
              "      <td>3</td>\n",
              "      <td>4</td>\n",
              "      <td>5</td>\n",
              "      <td>5</td>\n",
              "      <td>6</td>\n",
              "    </tr>\n",
              "    <tr>\n",
              "      <th>2</th>\n",
              "      <td>15</td>\n",
              "      <td>1</td>\n",
              "      <td>1</td>\n",
              "      <td>4</td>\n",
              "      <td>1</td>\n",
              "      <td>2</td>\n",
              "      <td>3</td>\n",
              "      <td>3</td>\n",
              "      <td>2</td>\n",
              "      <td>2</td>\n",
              "      <td>3</td>\n",
              "      <td>3</td>\n",
              "      <td>10</td>\n",
              "      <td>7</td>\n",
              "      <td>8</td>\n",
              "      <td>10</td>\n",
              "    </tr>\n",
              "    <tr>\n",
              "      <th>3</th>\n",
              "      <td>15</td>\n",
              "      <td>4</td>\n",
              "      <td>2</td>\n",
              "      <td>3</td>\n",
              "      <td>1</td>\n",
              "      <td>3</td>\n",
              "      <td>0</td>\n",
              "      <td>2</td>\n",
              "      <td>2</td>\n",
              "      <td>1</td>\n",
              "      <td>1</td>\n",
              "      <td>5</td>\n",
              "      <td>2</td>\n",
              "      <td>15</td>\n",
              "      <td>14</td>\n",
              "      <td>15</td>\n",
              "    </tr>\n",
              "    <tr>\n",
              "      <th>4</th>\n",
              "      <td>16</td>\n",
              "      <td>3</td>\n",
              "      <td>3</td>\n",
              "      <td>4</td>\n",
              "      <td>1</td>\n",
              "      <td>2</td>\n",
              "      <td>0</td>\n",
              "      <td>3</td>\n",
              "      <td>2</td>\n",
              "      <td>1</td>\n",
              "      <td>2</td>\n",
              "      <td>5</td>\n",
              "      <td>4</td>\n",
              "      <td>6</td>\n",
              "      <td>10</td>\n",
              "      <td>10</td>\n",
              "    </tr>\n",
              "    <tr>\n",
              "      <th>...</th>\n",
              "      <td>...</td>\n",
              "      <td>...</td>\n",
              "      <td>...</td>\n",
              "      <td>...</td>\n",
              "      <td>...</td>\n",
              "      <td>...</td>\n",
              "      <td>...</td>\n",
              "      <td>...</td>\n",
              "      <td>...</td>\n",
              "      <td>...</td>\n",
              "      <td>...</td>\n",
              "      <td>...</td>\n",
              "      <td>...</td>\n",
              "      <td>...</td>\n",
              "      <td>...</td>\n",
              "      <td>...</td>\n",
              "    </tr>\n",
              "    <tr>\n",
              "      <th>390</th>\n",
              "      <td>20</td>\n",
              "      <td>2</td>\n",
              "      <td>2</td>\n",
              "      <td>5</td>\n",
              "      <td>1</td>\n",
              "      <td>2</td>\n",
              "      <td>2</td>\n",
              "      <td>5</td>\n",
              "      <td>4</td>\n",
              "      <td>4</td>\n",
              "      <td>5</td>\n",
              "      <td>4</td>\n",
              "      <td>11</td>\n",
              "      <td>9</td>\n",
              "      <td>9</td>\n",
              "      <td>9</td>\n",
              "    </tr>\n",
              "    <tr>\n",
              "      <th>391</th>\n",
              "      <td>17</td>\n",
              "      <td>3</td>\n",
              "      <td>1</td>\n",
              "      <td>2</td>\n",
              "      <td>2</td>\n",
              "      <td>1</td>\n",
              "      <td>0</td>\n",
              "      <td>4</td>\n",
              "      <td>5</td>\n",
              "      <td>3</td>\n",
              "      <td>4</td>\n",
              "      <td>2</td>\n",
              "      <td>3</td>\n",
              "      <td>14</td>\n",
              "      <td>16</td>\n",
              "      <td>16</td>\n",
              "    </tr>\n",
              "    <tr>\n",
              "      <th>392</th>\n",
              "      <td>21</td>\n",
              "      <td>1</td>\n",
              "      <td>1</td>\n",
              "      <td>5</td>\n",
              "      <td>1</td>\n",
              "      <td>1</td>\n",
              "      <td>3</td>\n",
              "      <td>5</td>\n",
              "      <td>3</td>\n",
              "      <td>3</td>\n",
              "      <td>3</td>\n",
              "      <td>3</td>\n",
              "      <td>3</td>\n",
              "      <td>10</td>\n",
              "      <td>8</td>\n",
              "      <td>7</td>\n",
              "    </tr>\n",
              "    <tr>\n",
              "      <th>393</th>\n",
              "      <td>18</td>\n",
              "      <td>3</td>\n",
              "      <td>2</td>\n",
              "      <td>4</td>\n",
              "      <td>3</td>\n",
              "      <td>1</td>\n",
              "      <td>0</td>\n",
              "      <td>4</td>\n",
              "      <td>1</td>\n",
              "      <td>3</td>\n",
              "      <td>4</td>\n",
              "      <td>5</td>\n",
              "      <td>0</td>\n",
              "      <td>11</td>\n",
              "      <td>12</td>\n",
              "      <td>10</td>\n",
              "    </tr>\n",
              "    <tr>\n",
              "      <th>394</th>\n",
              "      <td>19</td>\n",
              "      <td>1</td>\n",
              "      <td>1</td>\n",
              "      <td>3</td>\n",
              "      <td>1</td>\n",
              "      <td>1</td>\n",
              "      <td>0</td>\n",
              "      <td>2</td>\n",
              "      <td>3</td>\n",
              "      <td>3</td>\n",
              "      <td>3</td>\n",
              "      <td>5</td>\n",
              "      <td>5</td>\n",
              "      <td>8</td>\n",
              "      <td>9</td>\n",
              "      <td>9</td>\n",
              "    </tr>\n",
              "  </tbody>\n",
              "</table>\n",
              "<p>395 rows × 16 columns</p>\n",
              "</div>"
            ],
            "text/plain": [
              "     age  Medu  Fedu  famrel  traveltime  ...  health  absences  G1  G2  G3\n",
              "0     18     4     4       4           2  ...       3         6   5   6   6\n",
              "1     17     1     1       5           1  ...       3         4   5   5   6\n",
              "2     15     1     1       4           1  ...       3        10   7   8  10\n",
              "3     15     4     2       3           1  ...       5         2  15  14  15\n",
              "4     16     3     3       4           1  ...       5         4   6  10  10\n",
              "..   ...   ...   ...     ...         ...  ...     ...       ...  ..  ..  ..\n",
              "390   20     2     2       5           1  ...       4        11   9   9   9\n",
              "391   17     3     1       2           2  ...       2         3  14  16  16\n",
              "392   21     1     1       5           1  ...       3         3  10   8   7\n",
              "393   18     3     2       4           3  ...       5         0  11  12  10\n",
              "394   19     1     1       3           1  ...       5         5   8   9   9\n",
              "\n",
              "[395 rows x 16 columns]"
            ]
          },
          "metadata": {},
          "execution_count": 54
        }
      ]
    },
    {
      "cell_type": "code",
      "metadata": {
        "colab": {
          "base_uri": "https://localhost:8080/"
        },
        "id": "H8r8ZSBlON1a",
        "outputId": "4e72a39a-70cd-4019-bf4b-952cd2bba266"
      },
      "source": [
        "df['absences'].sum()"
      ],
      "execution_count": null,
      "outputs": [
        {
          "output_type": "execute_result",
          "data": {
            "text/plain": [
              "2255"
            ]
          },
          "metadata": {},
          "execution_count": 55
        }
      ]
    },
    {
      "cell_type": "code",
      "metadata": {
        "colab": {
          "base_uri": "https://localhost:8080/"
        },
        "id": "GwZNRzN-coyO",
        "outputId": "778c11b9-45fc-4780-8f34-62719ba4013b"
      },
      "source": [
        "df['age'].mean()"
      ],
      "execution_count": null,
      "outputs": [
        {
          "output_type": "execute_result",
          "data": {
            "text/plain": [
              "16.696202531645568"
            ]
          },
          "metadata": {},
          "execution_count": 57
        }
      ]
    },
    {
      "cell_type": "code",
      "metadata": {
        "colab": {
          "base_uri": "https://localhost:8080/"
        },
        "id": "QlEHvjAcc1zm",
        "outputId": "d1cfaa50-d784-4244-f568-842a7961a9d8"
      },
      "source": [
        "df['famrel'].cumsum()"
      ],
      "execution_count": null,
      "outputs": [
        {
          "output_type": "execute_result",
          "data": {
            "text/plain": [
              "0         4\n",
              "1         9\n",
              "2        13\n",
              "3        16\n",
              "4        20\n",
              "       ... \n",
              "390    1544\n",
              "391    1546\n",
              "392    1551\n",
              "393    1555\n",
              "394    1558\n",
              "Name: famrel, Length: 395, dtype: int64"
            ]
          },
          "metadata": {},
          "execution_count": 58
        }
      ]
    },
    {
      "cell_type": "code",
      "metadata": {
        "colab": {
          "base_uri": "https://localhost:8080/"
        },
        "id": "XrWnj-8Oc8Uc",
        "outputId": "f6a41b09-6be0-4061-d09e-da701ff553b4"
      },
      "source": [
        "df['Walc'].describe()"
      ],
      "execution_count": null,
      "outputs": [
        {
          "output_type": "execute_result",
          "data": {
            "text/plain": [
              "count    395.000000\n",
              "mean       2.291139\n",
              "std        1.287897\n",
              "min        1.000000\n",
              "25%        1.000000\n",
              "50%        2.000000\n",
              "75%        3.000000\n",
              "max        5.000000\n",
              "Name: Walc, dtype: float64"
            ]
          },
          "metadata": {},
          "execution_count": 60
        }
      ]
    },
    {
      "cell_type": "code",
      "metadata": {
        "colab": {
          "base_uri": "https://localhost:8080/"
        },
        "id": "BKHUqXkudE6-",
        "outputId": "d83dcff2-6c08-465b-c624-5cd8f1066c6d"
      },
      "source": [
        "df['freetime'].count()"
      ],
      "execution_count": null,
      "outputs": [
        {
          "output_type": "execute_result",
          "data": {
            "text/plain": [
              "395"
            ]
          },
          "metadata": {},
          "execution_count": 61
        }
      ]
    },
    {
      "cell_type": "code",
      "metadata": {
        "colab": {
          "base_uri": "https://localhost:8080/"
        },
        "id": "Vu8j0_GddLmw",
        "outputId": "576b8a7f-78f7-40d0-c220-2929b1f8d6b5"
      },
      "source": [
        "df['goout'].min()"
      ],
      "execution_count": null,
      "outputs": [
        {
          "output_type": "execute_result",
          "data": {
            "text/plain": [
              "1"
            ]
          },
          "metadata": {},
          "execution_count": 63
        }
      ]
    },
    {
      "cell_type": "code",
      "metadata": {
        "colab": {
          "base_uri": "https://localhost:8080/"
        },
        "id": "Q0C4oyrMdQ4g",
        "outputId": "9e04dd13-c0a9-4765-d948-aa7eb132af34"
      },
      "source": [
        "df['health'].max()"
      ],
      "execution_count": null,
      "outputs": [
        {
          "output_type": "execute_result",
          "data": {
            "text/plain": [
              "5"
            ]
          },
          "metadata": {},
          "execution_count": 65
        }
      ]
    },
    {
      "cell_type": "code",
      "metadata": {
        "colab": {
          "base_uri": "https://localhost:8080/"
        },
        "id": "2uUJ8B-Ud3r9",
        "outputId": "796b6881-0a34-4a4c-cd03-5e24fdd25e69"
      },
      "source": [
        "df['Medu'].median()"
      ],
      "execution_count": null,
      "outputs": [
        {
          "output_type": "execute_result",
          "data": {
            "text/plain": [
              "3.0"
            ]
          },
          "metadata": {},
          "execution_count": 66
        }
      ]
    },
    {
      "cell_type": "code",
      "metadata": {
        "colab": {
          "base_uri": "https://localhost:8080/"
        },
        "id": "zlzooZsGeBXt",
        "outputId": "06a22ceb-de2b-451d-d556-b5197778fd1a"
      },
      "source": [
        "df['G2'].var()"
      ],
      "execution_count": null,
      "outputs": [
        {
          "output_type": "execute_result",
          "data": {
            "text/plain": [
              "14.148917303861756"
            ]
          },
          "metadata": {},
          "execution_count": 67
        }
      ]
    },
    {
      "cell_type": "code",
      "metadata": {
        "colab": {
          "base_uri": "https://localhost:8080/"
        },
        "id": "a-6fudnOeHtP",
        "outputId": "37ea7b81-cdc2-43ef-d853-21a2648d31cf"
      },
      "source": [
        "df['G3'].std()"
      ],
      "execution_count": null,
      "outputs": [
        {
          "output_type": "execute_result",
          "data": {
            "text/plain": [
              "4.5814426109978434"
            ]
          },
          "metadata": {},
          "execution_count": 69
        }
      ]
    },
    {
      "cell_type": "code",
      "metadata": {
        "colab": {
          "base_uri": "https://localhost:8080/"
        },
        "id": "_Y5YAeFSeMfj",
        "outputId": "414775d5-8feb-4755-c297-b5dfaac1d39c"
      },
      "source": [
        "df['Dalc'].skew()"
      ],
      "execution_count": null,
      "outputs": [
        {
          "output_type": "execute_result",
          "data": {
            "text/plain": [
              "2.190761845462348"
            ]
          },
          "metadata": {},
          "execution_count": 70
        }
      ]
    },
    {
      "cell_type": "code",
      "metadata": {
        "colab": {
          "base_uri": "https://localhost:8080/"
        },
        "id": "FO1LwkY2eVPz",
        "outputId": "a3a47267-4929-424a-b92e-931dbc04029a"
      },
      "source": [
        "df['G3'].kurt()"
      ],
      "execution_count": null,
      "outputs": [
        {
          "output_type": "execute_result",
          "data": {
            "text/plain": [
              "0.4034208131242458"
            ]
          },
          "metadata": {},
          "execution_count": 71
        }
      ]
    },
    {
      "cell_type": "code",
      "metadata": {
        "colab": {
          "base_uri": "https://localhost:8080/",
          "height": 571
        },
        "id": "-vQaYc54eb1C",
        "outputId": "eac1a91c-95cd-45c5-91a0-4c79cf7a9e77"
      },
      "source": [
        "df.corr()"
      ],
      "execution_count": null,
      "outputs": [
        {
          "output_type": "execute_result",
          "data": {
            "text/html": [
              "<div>\n",
              "<style scoped>\n",
              "    .dataframe tbody tr th:only-of-type {\n",
              "        vertical-align: middle;\n",
              "    }\n",
              "\n",
              "    .dataframe tbody tr th {\n",
              "        vertical-align: top;\n",
              "    }\n",
              "\n",
              "    .dataframe thead th {\n",
              "        text-align: right;\n",
              "    }\n",
              "</style>\n",
              "<table border=\"1\" class=\"dataframe\">\n",
              "  <thead>\n",
              "    <tr style=\"text-align: right;\">\n",
              "      <th></th>\n",
              "      <th>age</th>\n",
              "      <th>Medu</th>\n",
              "      <th>Fedu</th>\n",
              "      <th>famrel</th>\n",
              "      <th>traveltime</th>\n",
              "      <th>studytime</th>\n",
              "      <th>failures</th>\n",
              "      <th>freetime</th>\n",
              "      <th>goout</th>\n",
              "      <th>Dalc</th>\n",
              "      <th>Walc</th>\n",
              "      <th>health</th>\n",
              "      <th>absences</th>\n",
              "      <th>G1</th>\n",
              "      <th>G2</th>\n",
              "      <th>G3</th>\n",
              "    </tr>\n",
              "  </thead>\n",
              "  <tbody>\n",
              "    <tr>\n",
              "      <th>age</th>\n",
              "      <td>1.000000</td>\n",
              "      <td>-0.163658</td>\n",
              "      <td>-0.163438</td>\n",
              "      <td>0.053940</td>\n",
              "      <td>0.070641</td>\n",
              "      <td>-0.004140</td>\n",
              "      <td>0.243665</td>\n",
              "      <td>0.016434</td>\n",
              "      <td>0.126964</td>\n",
              "      <td>0.131125</td>\n",
              "      <td>0.117276</td>\n",
              "      <td>-0.062187</td>\n",
              "      <td>0.175230</td>\n",
              "      <td>-0.064081</td>\n",
              "      <td>-0.143474</td>\n",
              "      <td>-0.161579</td>\n",
              "    </tr>\n",
              "    <tr>\n",
              "      <th>Medu</th>\n",
              "      <td>-0.163658</td>\n",
              "      <td>1.000000</td>\n",
              "      <td>0.623455</td>\n",
              "      <td>-0.003914</td>\n",
              "      <td>-0.171639</td>\n",
              "      <td>0.064944</td>\n",
              "      <td>-0.236680</td>\n",
              "      <td>0.030891</td>\n",
              "      <td>0.064094</td>\n",
              "      <td>0.019834</td>\n",
              "      <td>-0.047123</td>\n",
              "      <td>-0.046878</td>\n",
              "      <td>0.100285</td>\n",
              "      <td>0.205341</td>\n",
              "      <td>0.215527</td>\n",
              "      <td>0.217147</td>\n",
              "    </tr>\n",
              "    <tr>\n",
              "      <th>Fedu</th>\n",
              "      <td>-0.163438</td>\n",
              "      <td>0.623455</td>\n",
              "      <td>1.000000</td>\n",
              "      <td>-0.001370</td>\n",
              "      <td>-0.158194</td>\n",
              "      <td>-0.009175</td>\n",
              "      <td>-0.250408</td>\n",
              "      <td>-0.012846</td>\n",
              "      <td>0.043105</td>\n",
              "      <td>0.002386</td>\n",
              "      <td>-0.012631</td>\n",
              "      <td>0.014742</td>\n",
              "      <td>0.024473</td>\n",
              "      <td>0.190270</td>\n",
              "      <td>0.164893</td>\n",
              "      <td>0.152457</td>\n",
              "    </tr>\n",
              "    <tr>\n",
              "      <th>famrel</th>\n",
              "      <td>0.053940</td>\n",
              "      <td>-0.003914</td>\n",
              "      <td>-0.001370</td>\n",
              "      <td>1.000000</td>\n",
              "      <td>-0.016808</td>\n",
              "      <td>0.039731</td>\n",
              "      <td>-0.044337</td>\n",
              "      <td>0.150701</td>\n",
              "      <td>0.064568</td>\n",
              "      <td>-0.077594</td>\n",
              "      <td>-0.113397</td>\n",
              "      <td>0.094056</td>\n",
              "      <td>-0.044354</td>\n",
              "      <td>0.022168</td>\n",
              "      <td>-0.018281</td>\n",
              "      <td>0.051363</td>\n",
              "    </tr>\n",
              "    <tr>\n",
              "      <th>traveltime</th>\n",
              "      <td>0.070641</td>\n",
              "      <td>-0.171639</td>\n",
              "      <td>-0.158194</td>\n",
              "      <td>-0.016808</td>\n",
              "      <td>1.000000</td>\n",
              "      <td>-0.100909</td>\n",
              "      <td>0.092239</td>\n",
              "      <td>-0.017025</td>\n",
              "      <td>0.028540</td>\n",
              "      <td>0.138325</td>\n",
              "      <td>0.134116</td>\n",
              "      <td>0.007501</td>\n",
              "      <td>-0.012944</td>\n",
              "      <td>-0.093040</td>\n",
              "      <td>-0.153198</td>\n",
              "      <td>-0.117142</td>\n",
              "    </tr>\n",
              "    <tr>\n",
              "      <th>studytime</th>\n",
              "      <td>-0.004140</td>\n",
              "      <td>0.064944</td>\n",
              "      <td>-0.009175</td>\n",
              "      <td>0.039731</td>\n",
              "      <td>-0.100909</td>\n",
              "      <td>1.000000</td>\n",
              "      <td>-0.173563</td>\n",
              "      <td>-0.143198</td>\n",
              "      <td>-0.063904</td>\n",
              "      <td>-0.196019</td>\n",
              "      <td>-0.253785</td>\n",
              "      <td>-0.075616</td>\n",
              "      <td>-0.062700</td>\n",
              "      <td>0.160612</td>\n",
              "      <td>0.135880</td>\n",
              "      <td>0.097820</td>\n",
              "    </tr>\n",
              "    <tr>\n",
              "      <th>failures</th>\n",
              "      <td>0.243665</td>\n",
              "      <td>-0.236680</td>\n",
              "      <td>-0.250408</td>\n",
              "      <td>-0.044337</td>\n",
              "      <td>0.092239</td>\n",
              "      <td>-0.173563</td>\n",
              "      <td>1.000000</td>\n",
              "      <td>0.091987</td>\n",
              "      <td>0.124561</td>\n",
              "      <td>0.136047</td>\n",
              "      <td>0.141962</td>\n",
              "      <td>0.065827</td>\n",
              "      <td>0.063726</td>\n",
              "      <td>-0.354718</td>\n",
              "      <td>-0.355896</td>\n",
              "      <td>-0.360415</td>\n",
              "    </tr>\n",
              "    <tr>\n",
              "      <th>freetime</th>\n",
              "      <td>0.016434</td>\n",
              "      <td>0.030891</td>\n",
              "      <td>-0.012846</td>\n",
              "      <td>0.150701</td>\n",
              "      <td>-0.017025</td>\n",
              "      <td>-0.143198</td>\n",
              "      <td>0.091987</td>\n",
              "      <td>1.000000</td>\n",
              "      <td>0.285019</td>\n",
              "      <td>0.209001</td>\n",
              "      <td>0.147822</td>\n",
              "      <td>0.075733</td>\n",
              "      <td>-0.058078</td>\n",
              "      <td>0.012613</td>\n",
              "      <td>-0.013777</td>\n",
              "      <td>0.011307</td>\n",
              "    </tr>\n",
              "    <tr>\n",
              "      <th>goout</th>\n",
              "      <td>0.126964</td>\n",
              "      <td>0.064094</td>\n",
              "      <td>0.043105</td>\n",
              "      <td>0.064568</td>\n",
              "      <td>0.028540</td>\n",
              "      <td>-0.063904</td>\n",
              "      <td>0.124561</td>\n",
              "      <td>0.285019</td>\n",
              "      <td>1.000000</td>\n",
              "      <td>0.266994</td>\n",
              "      <td>0.420386</td>\n",
              "      <td>-0.009577</td>\n",
              "      <td>0.044302</td>\n",
              "      <td>-0.149104</td>\n",
              "      <td>-0.162250</td>\n",
              "      <td>-0.132791</td>\n",
              "    </tr>\n",
              "    <tr>\n",
              "      <th>Dalc</th>\n",
              "      <td>0.131125</td>\n",
              "      <td>0.019834</td>\n",
              "      <td>0.002386</td>\n",
              "      <td>-0.077594</td>\n",
              "      <td>0.138325</td>\n",
              "      <td>-0.196019</td>\n",
              "      <td>0.136047</td>\n",
              "      <td>0.209001</td>\n",
              "      <td>0.266994</td>\n",
              "      <td>1.000000</td>\n",
              "      <td>0.647544</td>\n",
              "      <td>0.077180</td>\n",
              "      <td>0.111908</td>\n",
              "      <td>-0.094159</td>\n",
              "      <td>-0.064120</td>\n",
              "      <td>-0.054660</td>\n",
              "    </tr>\n",
              "    <tr>\n",
              "      <th>Walc</th>\n",
              "      <td>0.117276</td>\n",
              "      <td>-0.047123</td>\n",
              "      <td>-0.012631</td>\n",
              "      <td>-0.113397</td>\n",
              "      <td>0.134116</td>\n",
              "      <td>-0.253785</td>\n",
              "      <td>0.141962</td>\n",
              "      <td>0.147822</td>\n",
              "      <td>0.420386</td>\n",
              "      <td>0.647544</td>\n",
              "      <td>1.000000</td>\n",
              "      <td>0.092476</td>\n",
              "      <td>0.136291</td>\n",
              "      <td>-0.126179</td>\n",
              "      <td>-0.084927</td>\n",
              "      <td>-0.051939</td>\n",
              "    </tr>\n",
              "    <tr>\n",
              "      <th>health</th>\n",
              "      <td>-0.062187</td>\n",
              "      <td>-0.046878</td>\n",
              "      <td>0.014742</td>\n",
              "      <td>0.094056</td>\n",
              "      <td>0.007501</td>\n",
              "      <td>-0.075616</td>\n",
              "      <td>0.065827</td>\n",
              "      <td>0.075733</td>\n",
              "      <td>-0.009577</td>\n",
              "      <td>0.077180</td>\n",
              "      <td>0.092476</td>\n",
              "      <td>1.000000</td>\n",
              "      <td>-0.029937</td>\n",
              "      <td>-0.073172</td>\n",
              "      <td>-0.097720</td>\n",
              "      <td>-0.061335</td>\n",
              "    </tr>\n",
              "    <tr>\n",
              "      <th>absences</th>\n",
              "      <td>0.175230</td>\n",
              "      <td>0.100285</td>\n",
              "      <td>0.024473</td>\n",
              "      <td>-0.044354</td>\n",
              "      <td>-0.012944</td>\n",
              "      <td>-0.062700</td>\n",
              "      <td>0.063726</td>\n",
              "      <td>-0.058078</td>\n",
              "      <td>0.044302</td>\n",
              "      <td>0.111908</td>\n",
              "      <td>0.136291</td>\n",
              "      <td>-0.029937</td>\n",
              "      <td>1.000000</td>\n",
              "      <td>-0.031003</td>\n",
              "      <td>-0.031777</td>\n",
              "      <td>0.034247</td>\n",
              "    </tr>\n",
              "    <tr>\n",
              "      <th>G1</th>\n",
              "      <td>-0.064081</td>\n",
              "      <td>0.205341</td>\n",
              "      <td>0.190270</td>\n",
              "      <td>0.022168</td>\n",
              "      <td>-0.093040</td>\n",
              "      <td>0.160612</td>\n",
              "      <td>-0.354718</td>\n",
              "      <td>0.012613</td>\n",
              "      <td>-0.149104</td>\n",
              "      <td>-0.094159</td>\n",
              "      <td>-0.126179</td>\n",
              "      <td>-0.073172</td>\n",
              "      <td>-0.031003</td>\n",
              "      <td>1.000000</td>\n",
              "      <td>0.852118</td>\n",
              "      <td>0.801468</td>\n",
              "    </tr>\n",
              "    <tr>\n",
              "      <th>G2</th>\n",
              "      <td>-0.143474</td>\n",
              "      <td>0.215527</td>\n",
              "      <td>0.164893</td>\n",
              "      <td>-0.018281</td>\n",
              "      <td>-0.153198</td>\n",
              "      <td>0.135880</td>\n",
              "      <td>-0.355896</td>\n",
              "      <td>-0.013777</td>\n",
              "      <td>-0.162250</td>\n",
              "      <td>-0.064120</td>\n",
              "      <td>-0.084927</td>\n",
              "      <td>-0.097720</td>\n",
              "      <td>-0.031777</td>\n",
              "      <td>0.852118</td>\n",
              "      <td>1.000000</td>\n",
              "      <td>0.904868</td>\n",
              "    </tr>\n",
              "    <tr>\n",
              "      <th>G3</th>\n",
              "      <td>-0.161579</td>\n",
              "      <td>0.217147</td>\n",
              "      <td>0.152457</td>\n",
              "      <td>0.051363</td>\n",
              "      <td>-0.117142</td>\n",
              "      <td>0.097820</td>\n",
              "      <td>-0.360415</td>\n",
              "      <td>0.011307</td>\n",
              "      <td>-0.132791</td>\n",
              "      <td>-0.054660</td>\n",
              "      <td>-0.051939</td>\n",
              "      <td>-0.061335</td>\n",
              "      <td>0.034247</td>\n",
              "      <td>0.801468</td>\n",
              "      <td>0.904868</td>\n",
              "      <td>1.000000</td>\n",
              "    </tr>\n",
              "  </tbody>\n",
              "</table>\n",
              "</div>"
            ],
            "text/plain": [
              "                 age      Medu      Fedu  ...        G1        G2        G3\n",
              "age         1.000000 -0.163658 -0.163438  ... -0.064081 -0.143474 -0.161579\n",
              "Medu       -0.163658  1.000000  0.623455  ...  0.205341  0.215527  0.217147\n",
              "Fedu       -0.163438  0.623455  1.000000  ...  0.190270  0.164893  0.152457\n",
              "famrel      0.053940 -0.003914 -0.001370  ...  0.022168 -0.018281  0.051363\n",
              "traveltime  0.070641 -0.171639 -0.158194  ... -0.093040 -0.153198 -0.117142\n",
              "studytime  -0.004140  0.064944 -0.009175  ...  0.160612  0.135880  0.097820\n",
              "failures    0.243665 -0.236680 -0.250408  ... -0.354718 -0.355896 -0.360415\n",
              "freetime    0.016434  0.030891 -0.012846  ...  0.012613 -0.013777  0.011307\n",
              "goout       0.126964  0.064094  0.043105  ... -0.149104 -0.162250 -0.132791\n",
              "Dalc        0.131125  0.019834  0.002386  ... -0.094159 -0.064120 -0.054660\n",
              "Walc        0.117276 -0.047123 -0.012631  ... -0.126179 -0.084927 -0.051939\n",
              "health     -0.062187 -0.046878  0.014742  ... -0.073172 -0.097720 -0.061335\n",
              "absences    0.175230  0.100285  0.024473  ... -0.031003 -0.031777  0.034247\n",
              "G1         -0.064081  0.205341  0.190270  ...  1.000000  0.852118  0.801468\n",
              "G2         -0.143474  0.215527  0.164893  ...  0.852118  1.000000  0.904868\n",
              "G3         -0.161579  0.217147  0.152457  ...  0.801468  0.904868  1.000000\n",
              "\n",
              "[16 rows x 16 columns]"
            ]
          },
          "metadata": {},
          "execution_count": 72
        }
      ]
    },
    {
      "cell_type": "code",
      "metadata": {
        "colab": {
          "base_uri": "https://localhost:8080/",
          "height": 571
        },
        "id": "RCUclBJAefoX",
        "outputId": "18f16fd9-9040-4f97-8d33-f7d3d4d670c2"
      },
      "source": [
        "df.cov()"
      ],
      "execution_count": null,
      "outputs": [
        {
          "output_type": "execute_result",
          "data": {
            "text/html": [
              "<div>\n",
              "<style scoped>\n",
              "    .dataframe tbody tr th:only-of-type {\n",
              "        vertical-align: middle;\n",
              "    }\n",
              "\n",
              "    .dataframe tbody tr th {\n",
              "        vertical-align: top;\n",
              "    }\n",
              "\n",
              "    .dataframe thead th {\n",
              "        text-align: right;\n",
              "    }\n",
              "</style>\n",
              "<table border=\"1\" class=\"dataframe\">\n",
              "  <thead>\n",
              "    <tr style=\"text-align: right;\">\n",
              "      <th></th>\n",
              "      <th>age</th>\n",
              "      <th>Medu</th>\n",
              "      <th>Fedu</th>\n",
              "      <th>famrel</th>\n",
              "      <th>traveltime</th>\n",
              "      <th>studytime</th>\n",
              "      <th>failures</th>\n",
              "      <th>freetime</th>\n",
              "      <th>goout</th>\n",
              "      <th>Dalc</th>\n",
              "      <th>Walc</th>\n",
              "      <th>health</th>\n",
              "      <th>absences</th>\n",
              "      <th>G1</th>\n",
              "      <th>G2</th>\n",
              "      <th>G3</th>\n",
              "    </tr>\n",
              "  </thead>\n",
              "  <tbody>\n",
              "    <tr>\n",
              "      <th>age</th>\n",
              "      <td>1.628285</td>\n",
              "      <td>-0.228619</td>\n",
              "      <td>-0.226949</td>\n",
              "      <td>0.061717</td>\n",
              "      <td>0.062873</td>\n",
              "      <td>-0.004434</td>\n",
              "      <td>0.231221</td>\n",
              "      <td>0.020947</td>\n",
              "      <td>0.180364</td>\n",
              "      <td>0.149039</td>\n",
              "      <td>0.192733</td>\n",
              "      <td>-0.110326</td>\n",
              "      <td>1.789501</td>\n",
              "      <td>-0.271413</td>\n",
              "      <td>-0.688653</td>\n",
              "      <td>-0.944612</td>\n",
              "    </tr>\n",
              "    <tr>\n",
              "      <th>Medu</th>\n",
              "      <td>-0.228619</td>\n",
              "      <td>1.198445</td>\n",
              "      <td>0.742717</td>\n",
              "      <td>-0.003842</td>\n",
              "      <td>-0.131061</td>\n",
              "      <td>0.059667</td>\n",
              "      <td>-0.192681</td>\n",
              "      <td>0.033779</td>\n",
              "      <td>0.078115</td>\n",
              "      <td>0.019341</td>\n",
              "      <td>-0.066440</td>\n",
              "      <td>-0.071349</td>\n",
              "      <td>0.878622</td>\n",
              "      <td>0.746135</td>\n",
              "      <td>0.887509</td>\n",
              "      <td>1.089096</td>\n",
              "    </tr>\n",
              "    <tr>\n",
              "      <th>Fedu</th>\n",
              "      <td>-0.226949</td>\n",
              "      <td>0.742717</td>\n",
              "      <td>1.184180</td>\n",
              "      <td>-0.001337</td>\n",
              "      <td>-0.120073</td>\n",
              "      <td>-0.008379</td>\n",
              "      <td>-0.202641</td>\n",
              "      <td>-0.013963</td>\n",
              "      <td>0.052220</td>\n",
              "      <td>0.002313</td>\n",
              "      <td>-0.017702</td>\n",
              "      <td>0.022303</td>\n",
              "      <td>0.213134</td>\n",
              "      <td>0.687245</td>\n",
              "      <td>0.674953</td>\n",
              "      <td>0.760078</td>\n",
              "    </tr>\n",
              "    <tr>\n",
              "      <th>famrel</th>\n",
              "      <td>0.061717</td>\n",
              "      <td>-0.003842</td>\n",
              "      <td>-0.001337</td>\n",
              "      <td>0.803997</td>\n",
              "      <td>-0.010512</td>\n",
              "      <td>0.029898</td>\n",
              "      <td>-0.029564</td>\n",
              "      <td>0.134974</td>\n",
              "      <td>0.064454</td>\n",
              "      <td>-0.061974</td>\n",
              "      <td>-0.130952</td>\n",
              "      <td>0.117252</td>\n",
              "      <td>-0.318287</td>\n",
              "      <td>0.065977</td>\n",
              "      <td>-0.061659</td>\n",
              "      <td>0.211000</td>\n",
              "    </tr>\n",
              "    <tr>\n",
              "      <th>traveltime</th>\n",
              "      <td>0.062873</td>\n",
              "      <td>-0.131061</td>\n",
              "      <td>-0.120073</td>\n",
              "      <td>-0.010512</td>\n",
              "      <td>0.486513</td>\n",
              "      <td>-0.059070</td>\n",
              "      <td>0.047844</td>\n",
              "      <td>-0.011861</td>\n",
              "      <td>0.022162</td>\n",
              "      <td>0.085941</td>\n",
              "      <td>0.120478</td>\n",
              "      <td>0.007274</td>\n",
              "      <td>-0.072255</td>\n",
              "      <td>-0.215402</td>\n",
              "      <td>-0.401940</td>\n",
              "      <td>-0.374337</td>\n",
              "    </tr>\n",
              "    <tr>\n",
              "      <th>studytime</th>\n",
              "      <td>-0.004434</td>\n",
              "      <td>0.059667</td>\n",
              "      <td>-0.008379</td>\n",
              "      <td>0.029898</td>\n",
              "      <td>-0.059070</td>\n",
              "      <td>0.704324</td>\n",
              "      <td>-0.108321</td>\n",
              "      <td>-0.120041</td>\n",
              "      <td>-0.059706</td>\n",
              "      <td>-0.146533</td>\n",
              "      <td>-0.274304</td>\n",
              "      <td>-0.088228</td>\n",
              "      <td>-0.421127</td>\n",
              "      <td>0.447401</td>\n",
              "      <td>0.428947</td>\n",
              "      <td>0.376110</td>\n",
              "    </tr>\n",
              "    <tr>\n",
              "      <th>failures</th>\n",
              "      <td>0.231221</td>\n",
              "      <td>-0.192681</td>\n",
              "      <td>-0.202641</td>\n",
              "      <td>-0.029564</td>\n",
              "      <td>0.047844</td>\n",
              "      <td>-0.108321</td>\n",
              "      <td>0.553017</td>\n",
              "      <td>0.068329</td>\n",
              "      <td>0.103123</td>\n",
              "      <td>0.090118</td>\n",
              "      <td>0.135964</td>\n",
              "      <td>0.068059</td>\n",
              "      <td>0.379265</td>\n",
              "      <td>-0.875557</td>\n",
              "      <td>-0.995528</td>\n",
              "      <td>-1.227932</td>\n",
              "    </tr>\n",
              "    <tr>\n",
              "      <th>freetime</th>\n",
              "      <td>0.020947</td>\n",
              "      <td>0.033779</td>\n",
              "      <td>-0.013963</td>\n",
              "      <td>0.134974</td>\n",
              "      <td>-0.011861</td>\n",
              "      <td>-0.120041</td>\n",
              "      <td>0.068329</td>\n",
              "      <td>0.997725</td>\n",
              "      <td>0.316944</td>\n",
              "      <td>0.185954</td>\n",
              "      <td>0.190163</td>\n",
              "      <td>0.105173</td>\n",
              "      <td>-0.464274</td>\n",
              "      <td>0.041817</td>\n",
              "      <td>-0.051764</td>\n",
              "      <td>0.051745</td>\n",
              "    </tr>\n",
              "    <tr>\n",
              "      <th>goout</th>\n",
              "      <td>0.180364</td>\n",
              "      <td>0.078115</td>\n",
              "      <td>0.052220</td>\n",
              "      <td>0.064454</td>\n",
              "      <td>0.022162</td>\n",
              "      <td>-0.059706</td>\n",
              "      <td>0.103123</td>\n",
              "      <td>0.316944</td>\n",
              "      <td>1.239388</td>\n",
              "      <td>0.264763</td>\n",
              "      <td>0.602744</td>\n",
              "      <td>-0.014824</td>\n",
              "      <td>0.394718</td>\n",
              "      <td>-0.550967</td>\n",
              "      <td>-0.679438</td>\n",
              "      <td>-0.677292</td>\n",
              "    </tr>\n",
              "    <tr>\n",
              "      <th>Dalc</th>\n",
              "      <td>0.149039</td>\n",
              "      <td>0.019341</td>\n",
              "      <td>0.002313</td>\n",
              "      <td>-0.061974</td>\n",
              "      <td>0.085941</td>\n",
              "      <td>-0.146533</td>\n",
              "      <td>0.090118</td>\n",
              "      <td>0.185954</td>\n",
              "      <td>0.264763</td>\n",
              "      <td>0.793420</td>\n",
              "      <td>0.742852</td>\n",
              "      <td>0.095579</td>\n",
              "      <td>0.797758</td>\n",
              "      <td>-0.278385</td>\n",
              "      <td>-0.214836</td>\n",
              "      <td>-0.223061</td>\n",
              "    </tr>\n",
              "    <tr>\n",
              "      <th>Walc</th>\n",
              "      <td>0.192733</td>\n",
              "      <td>-0.066440</td>\n",
              "      <td>-0.017702</td>\n",
              "      <td>-0.130952</td>\n",
              "      <td>0.120478</td>\n",
              "      <td>-0.274304</td>\n",
              "      <td>0.135964</td>\n",
              "      <td>0.190163</td>\n",
              "      <td>0.602744</td>\n",
              "      <td>0.742852</td>\n",
              "      <td>1.658678</td>\n",
              "      <td>0.165585</td>\n",
              "      <td>1.404774</td>\n",
              "      <td>-0.539388</td>\n",
              "      <td>-0.411425</td>\n",
              "      <td>-0.306464</td>\n",
              "    </tr>\n",
              "    <tr>\n",
              "      <th>health</th>\n",
              "      <td>-0.110326</td>\n",
              "      <td>-0.071349</td>\n",
              "      <td>0.022303</td>\n",
              "      <td>0.117252</td>\n",
              "      <td>0.007274</td>\n",
              "      <td>-0.088228</td>\n",
              "      <td>0.068059</td>\n",
              "      <td>0.105173</td>\n",
              "      <td>-0.014824</td>\n",
              "      <td>0.095579</td>\n",
              "      <td>0.165585</td>\n",
              "      <td>1.932944</td>\n",
              "      <td>-0.333098</td>\n",
              "      <td>-0.337666</td>\n",
              "      <td>-0.511039</td>\n",
              "      <td>-0.390677</td>\n",
              "    </tr>\n",
              "    <tr>\n",
              "      <th>absences</th>\n",
              "      <td>1.789501</td>\n",
              "      <td>0.878622</td>\n",
              "      <td>0.213134</td>\n",
              "      <td>-0.318287</td>\n",
              "      <td>-0.072255</td>\n",
              "      <td>-0.421127</td>\n",
              "      <td>0.379265</td>\n",
              "      <td>-0.464274</td>\n",
              "      <td>0.394718</td>\n",
              "      <td>0.797758</td>\n",
              "      <td>1.404774</td>\n",
              "      <td>-0.333098</td>\n",
              "      <td>64.049541</td>\n",
              "      <td>-0.823556</td>\n",
              "      <td>-0.956596</td>\n",
              "      <td>1.255703</td>\n",
              "    </tr>\n",
              "    <tr>\n",
              "      <th>G1</th>\n",
              "      <td>-0.271413</td>\n",
              "      <td>0.746135</td>\n",
              "      <td>0.687245</td>\n",
              "      <td>0.065977</td>\n",
              "      <td>-0.215402</td>\n",
              "      <td>0.447401</td>\n",
              "      <td>-0.875557</td>\n",
              "      <td>0.041817</td>\n",
              "      <td>-0.550967</td>\n",
              "      <td>-0.278385</td>\n",
              "      <td>-0.539388</td>\n",
              "      <td>-0.337666</td>\n",
              "      <td>-0.823556</td>\n",
              "      <td>11.017053</td>\n",
              "      <td>10.638836</td>\n",
              "      <td>12.187682</td>\n",
              "    </tr>\n",
              "    <tr>\n",
              "      <th>G2</th>\n",
              "      <td>-0.688653</td>\n",
              "      <td>0.887509</td>\n",
              "      <td>0.674953</td>\n",
              "      <td>-0.061659</td>\n",
              "      <td>-0.401940</td>\n",
              "      <td>0.428947</td>\n",
              "      <td>-0.995528</td>\n",
              "      <td>-0.051764</td>\n",
              "      <td>-0.679438</td>\n",
              "      <td>-0.214836</td>\n",
              "      <td>-0.411425</td>\n",
              "      <td>-0.511039</td>\n",
              "      <td>-0.956596</td>\n",
              "      <td>10.638836</td>\n",
              "      <td>14.148917</td>\n",
              "      <td>15.593697</td>\n",
              "    </tr>\n",
              "    <tr>\n",
              "      <th>G3</th>\n",
              "      <td>-0.944612</td>\n",
              "      <td>1.089096</td>\n",
              "      <td>0.760078</td>\n",
              "      <td>0.211000</td>\n",
              "      <td>-0.374337</td>\n",
              "      <td>0.376110</td>\n",
              "      <td>-1.227932</td>\n",
              "      <td>0.051745</td>\n",
              "      <td>-0.677292</td>\n",
              "      <td>-0.223061</td>\n",
              "      <td>-0.306464</td>\n",
              "      <td>-0.390677</td>\n",
              "      <td>1.255703</td>\n",
              "      <td>12.187682</td>\n",
              "      <td>15.593697</td>\n",
              "      <td>20.989616</td>\n",
              "    </tr>\n",
              "  </tbody>\n",
              "</table>\n",
              "</div>"
            ],
            "text/plain": [
              "                 age      Medu      Fedu  ...         G1         G2         G3\n",
              "age         1.628285 -0.228619 -0.226949  ...  -0.271413  -0.688653  -0.944612\n",
              "Medu       -0.228619  1.198445  0.742717  ...   0.746135   0.887509   1.089096\n",
              "Fedu       -0.226949  0.742717  1.184180  ...   0.687245   0.674953   0.760078\n",
              "famrel      0.061717 -0.003842 -0.001337  ...   0.065977  -0.061659   0.211000\n",
              "traveltime  0.062873 -0.131061 -0.120073  ...  -0.215402  -0.401940  -0.374337\n",
              "studytime  -0.004434  0.059667 -0.008379  ...   0.447401   0.428947   0.376110\n",
              "failures    0.231221 -0.192681 -0.202641  ...  -0.875557  -0.995528  -1.227932\n",
              "freetime    0.020947  0.033779 -0.013963  ...   0.041817  -0.051764   0.051745\n",
              "goout       0.180364  0.078115  0.052220  ...  -0.550967  -0.679438  -0.677292\n",
              "Dalc        0.149039  0.019341  0.002313  ...  -0.278385  -0.214836  -0.223061\n",
              "Walc        0.192733 -0.066440 -0.017702  ...  -0.539388  -0.411425  -0.306464\n",
              "health     -0.110326 -0.071349  0.022303  ...  -0.337666  -0.511039  -0.390677\n",
              "absences    1.789501  0.878622  0.213134  ...  -0.823556  -0.956596   1.255703\n",
              "G1         -0.271413  0.746135  0.687245  ...  11.017053  10.638836  12.187682\n",
              "G2         -0.688653  0.887509  0.674953  ...  10.638836  14.148917  15.593697\n",
              "G3         -0.944612  1.089096  0.760078  ...  12.187682  15.593697  20.989616\n",
              "\n",
              "[16 rows x 16 columns]"
            ]
          },
          "metadata": {},
          "execution_count": 74
        }
      ]
    },
    {
      "cell_type": "code",
      "metadata": {
        "colab": {
          "base_uri": "https://localhost:8080/",
          "height": 163
        },
        "id": "zenNe-YqgPQu",
        "outputId": "a338a76c-9adf-4bc2-cde7-812f16751989"
      },
      "source": [
        "fam_data.head(3)"
      ],
      "execution_count": null,
      "outputs": [
        {
          "output_type": "execute_result",
          "data": {
            "text/html": [
              "<div>\n",
              "<style scoped>\n",
              "    .dataframe tbody tr th:only-of-type {\n",
              "        vertical-align: middle;\n",
              "    }\n",
              "\n",
              "    .dataframe tbody tr th {\n",
              "        vertical-align: top;\n",
              "    }\n",
              "\n",
              "    .dataframe thead th {\n",
              "        text-align: right;\n",
              "    }\n",
              "</style>\n",
              "<table border=\"1\" class=\"dataframe\">\n",
              "  <thead>\n",
              "    <tr style=\"text-align: right;\">\n",
              "      <th></th>\n",
              "      <th>school</th>\n",
              "      <th>sex</th>\n",
              "      <th>age</th>\n",
              "      <th>address</th>\n",
              "      <th>famsize</th>\n",
              "      <th>Pstatus</th>\n",
              "      <th>Medu</th>\n",
              "      <th>Fedu</th>\n",
              "      <th>Mjob</th>\n",
              "      <th>Fjob</th>\n",
              "      <th>reason</th>\n",
              "      <th>guardian</th>\n",
              "      <th>traveltime</th>\n",
              "      <th>studytime</th>\n",
              "      <th>failures</th>\n",
              "      <th>schoolsup</th>\n",
              "      <th>famsup</th>\n",
              "      <th>paid</th>\n",
              "      <th>activities</th>\n",
              "      <th>nursery</th>\n",
              "      <th>higher</th>\n",
              "      <th>internet</th>\n",
              "      <th>romantic</th>\n",
              "      <th>famrel</th>\n",
              "      <th>freetime</th>\n",
              "      <th>goout</th>\n",
              "      <th>Dalc</th>\n",
              "      <th>Walc</th>\n",
              "      <th>health</th>\n",
              "      <th>absences</th>\n",
              "      <th>G1</th>\n",
              "      <th>G2</th>\n",
              "      <th>G3</th>\n",
              "    </tr>\n",
              "  </thead>\n",
              "  <tbody>\n",
              "    <tr>\n",
              "      <th>0</th>\n",
              "      <td>GP</td>\n",
              "      <td>F</td>\n",
              "      <td>18</td>\n",
              "      <td>U</td>\n",
              "      <td>GT3</td>\n",
              "      <td>A</td>\n",
              "      <td>4</td>\n",
              "      <td>4</td>\n",
              "      <td>at_home</td>\n",
              "      <td>teacher</td>\n",
              "      <td>course</td>\n",
              "      <td>mother</td>\n",
              "      <td>2</td>\n",
              "      <td>2</td>\n",
              "      <td>0</td>\n",
              "      <td>yes</td>\n",
              "      <td>no</td>\n",
              "      <td>no</td>\n",
              "      <td>no</td>\n",
              "      <td>yes</td>\n",
              "      <td>yes</td>\n",
              "      <td>no</td>\n",
              "      <td>no</td>\n",
              "      <td>4</td>\n",
              "      <td>3</td>\n",
              "      <td>4</td>\n",
              "      <td>1</td>\n",
              "      <td>1</td>\n",
              "      <td>3</td>\n",
              "      <td>6</td>\n",
              "      <td>5</td>\n",
              "      <td>6</td>\n",
              "      <td>6</td>\n",
              "    </tr>\n",
              "    <tr>\n",
              "      <th>1</th>\n",
              "      <td>GP</td>\n",
              "      <td>F</td>\n",
              "      <td>17</td>\n",
              "      <td>U</td>\n",
              "      <td>GT3</td>\n",
              "      <td>T</td>\n",
              "      <td>1</td>\n",
              "      <td>1</td>\n",
              "      <td>at_home</td>\n",
              "      <td>other</td>\n",
              "      <td>course</td>\n",
              "      <td>father</td>\n",
              "      <td>1</td>\n",
              "      <td>2</td>\n",
              "      <td>0</td>\n",
              "      <td>no</td>\n",
              "      <td>yes</td>\n",
              "      <td>no</td>\n",
              "      <td>no</td>\n",
              "      <td>no</td>\n",
              "      <td>yes</td>\n",
              "      <td>yes</td>\n",
              "      <td>no</td>\n",
              "      <td>5</td>\n",
              "      <td>3</td>\n",
              "      <td>3</td>\n",
              "      <td>1</td>\n",
              "      <td>1</td>\n",
              "      <td>3</td>\n",
              "      <td>4</td>\n",
              "      <td>5</td>\n",
              "      <td>5</td>\n",
              "      <td>6</td>\n",
              "    </tr>\n",
              "    <tr>\n",
              "      <th>2</th>\n",
              "      <td>GP</td>\n",
              "      <td>F</td>\n",
              "      <td>15</td>\n",
              "      <td>U</td>\n",
              "      <td>LE3</td>\n",
              "      <td>T</td>\n",
              "      <td>1</td>\n",
              "      <td>1</td>\n",
              "      <td>at_home</td>\n",
              "      <td>other</td>\n",
              "      <td>other</td>\n",
              "      <td>mother</td>\n",
              "      <td>1</td>\n",
              "      <td>2</td>\n",
              "      <td>3</td>\n",
              "      <td>yes</td>\n",
              "      <td>no</td>\n",
              "      <td>yes</td>\n",
              "      <td>no</td>\n",
              "      <td>yes</td>\n",
              "      <td>yes</td>\n",
              "      <td>yes</td>\n",
              "      <td>no</td>\n",
              "      <td>4</td>\n",
              "      <td>3</td>\n",
              "      <td>2</td>\n",
              "      <td>2</td>\n",
              "      <td>3</td>\n",
              "      <td>3</td>\n",
              "      <td>10</td>\n",
              "      <td>7</td>\n",
              "      <td>8</td>\n",
              "      <td>10</td>\n",
              "    </tr>\n",
              "  </tbody>\n",
              "</table>\n",
              "</div>"
            ],
            "text/plain": [
              "  school sex  age address famsize Pstatus  ...  Walc  health absences G1 G2  G3\n",
              "0     GP   F   18       U     GT3       A  ...     1       3        6  5  6   6\n",
              "1     GP   F   17       U     GT3       T  ...     1       3        4  5  5   6\n",
              "2     GP   F   15       U     LE3       T  ...     3       3       10  7  8  10\n",
              "\n",
              "[3 rows x 33 columns]"
            ]
          },
          "metadata": {},
          "execution_count": 77
        }
      ]
    },
    {
      "cell_type": "code",
      "metadata": {
        "colab": {
          "base_uri": "https://localhost:8080/"
        },
        "id": "VVxQ0K-igww8",
        "outputId": "6e664d8a-b954-4ffb-c7ca-e66c5e9e102d"
      },
      "source": [
        "fam_data.columns"
      ],
      "execution_count": null,
      "outputs": [
        {
          "output_type": "execute_result",
          "data": {
            "text/plain": [
              "Index(['school', 'sex', 'age', 'address', 'famsize', 'Pstatus', 'Medu', 'Fedu',\n",
              "       'Mjob', 'Fjob', 'reason', 'guardian', 'traveltime', 'studytime',\n",
              "       'failures', 'schoolsup', 'famsup', 'paid', 'activities', 'nursery',\n",
              "       'higher', 'internet', 'romantic', 'famrel', 'freetime', 'goout', 'Dalc',\n",
              "       'Walc', 'health', 'absences', 'G1', 'G2', 'G3'],\n",
              "      dtype='object')"
            ]
          },
          "metadata": {},
          "execution_count": 79
        }
      ]
    },
    {
      "cell_type": "code",
      "metadata": {
        "colab": {
          "base_uri": "https://localhost:8080/",
          "height": 291
        },
        "id": "ISVpGrKEg3mi",
        "outputId": "02ae0629-d513-49bd-e54c-bfc28800d6e6"
      },
      "source": [
        "fam_data['Dalc'].plot.bar()"
      ],
      "execution_count": null,
      "outputs": [
        {
          "output_type": "execute_result",
          "data": {
            "text/plain": [
              "<matplotlib.axes._subplots.AxesSubplot at 0x7f3f9bfb2250>"
            ]
          },
          "metadata": {},
          "execution_count": 81
        },
        {
          "output_type": "display_data",
          "data": {
            "image/png": "[encoded data removed]",
            "text/plain": [
              "<Figure size 432x288 with 1 Axes>"
            ]
          },
          "metadata": {
            "needs_background": "light"
          }
        }
      ]
    },
    {
      "cell_type": "markdown",
      "metadata": {
        "id": "DpOUZ0TY5NlA"
      },
      "source": [
        "Podemos obervar que ésta gráfica no nos es util por la cantidad de ruido que tiene\n"
      ]
    },
    {
      "cell_type": "code",
      "metadata": {
        "colab": {
          "base_uri": "https://localhost:8080/",
          "height": 279
        },
        "id": "aiTmRyEihRWo",
        "outputId": "2d52bf46-ed8f-49fd-c1f9-2d58b3584ce8"
      },
      "source": [
        "fam_data['Dalc'].value_counts().head(10).plot.bar()"
      ],
      "execution_count": null,
      "outputs": [
        {
          "output_type": "execute_result",
          "data": {
            "text/plain": [
              "<matplotlib.axes._subplots.AxesSubplot at 0x7f3f9889fb50>"
            ]
          },
          "metadata": {},
          "execution_count": 88
        },
        {
          "output_type": "display_data",
          "data": {
            "image/png": "[encoded data removed]",
            "text/plain": [
              "<Figure size 432x288 with 1 Axes>"
            ]
          },
          "metadata": {
            "needs_background": "light"
          }
        }
      ]
    },
    {
      "cell_type": "markdown",
      "metadata": {
        "id": "NIxcdrAn5YdM"
      },
      "source": [
        "Esta gráfica nos indica claramente el numero de personas que consumen distintas cantidades de alcohol entre semana"
      ]
    },
    {
      "cell_type": "code",
      "metadata": {
        "colab": {
          "base_uri": "https://localhost:8080/",
          "height": 279
        },
        "id": "ow81fW4PhZqZ",
        "outputId": "9333e7b5-937a-4c21-a4cc-9779c8f9e434"
      },
      "source": [
        "(fam_data['Dalc'].value_counts().head(10) / len(fam_data)).plot.bar()"
      ],
      "execution_count": null,
      "outputs": [
        {
          "output_type": "execute_result",
          "data": {
            "text/plain": [
              "<matplotlib.axes._subplots.AxesSubplot at 0x7f3f9855b790>"
            ]
          },
          "metadata": {},
          "execution_count": 89
        },
        {
          "output_type": "display_data",
          "data": {
            "image/png": "[encoded data removed]",
            "text/plain": [
              "<Figure size 432x288 with 1 Axes>"
            ]
          },
          "metadata": {
            "needs_background": "light"
          }
        }
      ]
    },
    {
      "cell_type": "code",
      "metadata": {
        "colab": {
          "base_uri": "https://localhost:8080/",
          "height": 285
        },
        "id": "7XIDovNbjH6W",
        "outputId": "83f52abf-05cf-48de-b21c-395e55bb4d2e"
      },
      "source": [
        "fam_data['age'].value_counts().sort_index().plot.bar()"
      ],
      "execution_count": null,
      "outputs": [
        {
          "output_type": "execute_result",
          "data": {
            "text/plain": [
              "<matplotlib.axes._subplots.AxesSubplot at 0x7f3f9743a250>"
            ]
          },
          "metadata": {},
          "execution_count": 92
        },
        {
          "output_type": "display_data",
          "data": {
            "image/png": "[encoded data removed]",
            "text/plain": [
              "<Figure size 432x288 with 1 Axes>"
            ]
          },
          "metadata": {
            "needs_background": "light"
          }
        }
      ]
    },
    {
      "cell_type": "markdown",
      "metadata": {
        "id": "wIG57Tne5zrw"
      },
      "source": [
        "Aqui podemos observar a que grupos de edades pertenece la mayoria de las personas en esta base de datos"
      ]
    },
    {
      "cell_type": "markdown",
      "metadata": {
        "id": "_9BO44ZDjXTz"
      },
      "source": [
        "# Pregunta 1: ¿Que representan los datos de arriba?\n",
        "Nos representan la cantidad de alumnos que hay en cada una de las diferentes edades"
      ]
    },
    {
      "cell_type": "code",
      "metadata": {
        "colab": {
          "base_uri": "https://localhost:8080/",
          "height": 282
        },
        "id": "tgHwO87Ukmp_",
        "outputId": "cebf8543-c324-4dcc-ba76-3d719017a3fa"
      },
      "source": [
        "fam_data['failures'].value_counts().sort_index().plot.line()"
      ],
      "execution_count": null,
      "outputs": [
        {
          "output_type": "execute_result",
          "data": {
            "text/plain": [
              "<matplotlib.axes._subplots.AxesSubplot at 0x7f3f973c5dd0>"
            ]
          },
          "metadata": {},
          "execution_count": 93
        },
        {
          "output_type": "display_data",
          "data": {
            "image/png": "[encoded data removed]",
            "text/plain": [
              "<Figure size 432x288 with 1 Axes>"
            ]
          },
          "metadata": {
            "needs_background": "light"
          }
        }
      ]
    },
    {
      "cell_type": "markdown",
      "metadata": {
        "id": "NH3FpbQV6Fxe"
      },
      "source": [
        "Aqui podemos observar claramente que hay una relacion inversamente proporcional entre el numero de personas que han reprobado materias y la cantidad de éstas"
      ]
    },
    {
      "cell_type": "code",
      "metadata": {
        "colab": {
          "base_uri": "https://localhost:8080/",
          "height": 282
        },
        "id": "taWFFl3Nk37_",
        "outputId": "6b454bea-dcbd-4226-9dbc-3078ed64f87b"
      },
      "source": [
        "fam_data['failures'].value_counts().sort_index().plot.area()"
      ],
      "execution_count": null,
      "outputs": [
        {
          "output_type": "execute_result",
          "data": {
            "text/plain": [
              "<matplotlib.axes._subplots.AxesSubplot at 0x7f3f973d5110>"
            ]
          },
          "metadata": {},
          "execution_count": 94
        },
        {
          "output_type": "display_data",
          "data": {
            "image/png": "[encoded data removed]",
            "text/plain": [
              "<Figure size 432x288 with 1 Axes>"
            ]
          },
          "metadata": {
            "needs_background": "light"
          }
        }
      ]
    },
    {
      "cell_type": "code",
      "metadata": {
        "colab": {
          "base_uri": "https://localhost:8080/",
          "height": 282
        },
        "id": "2eTpAEHDk6ex",
        "outputId": "f9618143-76c6-4d98-f9fe-d200963c9a53"
      },
      "source": [
        "fam_data[fam_data['G3']>5.0]['G3'].plot.hist()"
      ],
      "execution_count": null,
      "outputs": [
        {
          "output_type": "execute_result",
          "data": {
            "text/plain": [
              "<matplotlib.axes._subplots.AxesSubplot at 0x7f3f9726f1d0>"
            ]
          },
          "metadata": {},
          "execution_count": 96
        },
        {
          "output_type": "display_data",
          "data": {
            "image/png": "[encoded data removed]",
            "text/plain": [
              "<Figure size 432x288 with 1 Axes>"
            ]
          },
          "metadata": {
            "needs_background": "light"
          }
        }
      ]
    },
    {
      "cell_type": "markdown",
      "metadata": {
        "id": "o25OVeXh6fIG"
      },
      "source": [
        "Este histograma nos ayuda a visualizar las calificaciones obtenidas en el tercer parcial y que calificaciones obtenidas fueron las mas comunes."
      ]
    },
    {
      "cell_type": "code",
      "metadata": {
        "colab": {
          "base_uri": "https://localhost:8080/",
          "height": 282
        },
        "id": "KkdkKeH8lnAN",
        "outputId": "5757ac77-3932-4080-d737-a5a20c131f32"
      },
      "source": [
        "fam_data['G3'].plot.hist()"
      ],
      "execution_count": null,
      "outputs": [
        {
          "output_type": "execute_result",
          "data": {
            "text/plain": [
              "<matplotlib.axes._subplots.AxesSubplot at 0x7f3f972a4b10>"
            ]
          },
          "metadata": {},
          "execution_count": 97
        },
        {
          "output_type": "display_data",
          "data": {
            "image/png": "[encoded data removed]",
            "text/plain": [
              "<Figure size 432x288 with 1 Axes>"
            ]
          },
          "metadata": {
            "needs_background": "light"
          }
        }
      ]
    },
    {
      "cell_type": "code",
      "metadata": {
        "colab": {
          "base_uri": "https://localhost:8080/",
          "height": 282
        },
        "id": "3JkbYh17lzpV",
        "outputId": "41f2c8c5-6eba-4ec2-8b7a-6b8abc1d91ba"
      },
      "source": [
        "fam_data['G1'].plot.hist()"
      ],
      "execution_count": null,
      "outputs": [
        {
          "output_type": "execute_result",
          "data": {
            "text/plain": [
              "<matplotlib.axes._subplots.AxesSubplot at 0x7f3f970d7fd0>"
            ]
          },
          "metadata": {},
          "execution_count": 99
        },
        {
          "output_type": "display_data",
          "data": {
            "image/png": "[encoded data removed]",
            "text/plain": [
              "<Figure size 432x288 with 1 Axes>"
            ]
          },
          "metadata": {
            "needs_background": "light"
          }
        }
      ]
    },
    {
      "cell_type": "markdown",
      "metadata": {
        "id": "NfUd2HZB60_y"
      },
      "source": [
        "Aquí podemos observar lo mismo, pero para el primer parcial.\n"
      ]
    },
    {
      "cell_type": "code",
      "metadata": {
        "colab": {
          "base_uri": "https://localhost:8080/",
          "height": 296
        },
        "id": "qrfmwmvJl5AJ",
        "outputId": "7eafbfe4-d4c5-4681-c5d6-2e4736ca70dd"
      },
      "source": [
        "fam_data[fam_data['age']<21].sample(200).plot.scatter(x='age', y='absences')"
      ],
      "execution_count": null,
      "outputs": [
        {
          "output_type": "execute_result",
          "data": {
            "text/plain": [
              "<matplotlib.axes._subplots.AxesSubplot at 0x7f3f91847f90>"
            ]
          },
          "metadata": {},
          "execution_count": 199
        },
        {
          "output_type": "display_data",
          "data": {
            "image/png": "[encoded data removed]",
            "text/plain": [
              "<Figure size 432x288 with 1 Axes>"
            ]
          },
          "metadata": {
            "needs_background": "light"
          }
        }
      ]
    },
    {
      "cell_type": "markdown",
      "metadata": {
        "id": "Po9fhsp768pv"
      },
      "source": [
        "Si bien un grafico de dispersion no es la mejor opcion para demostrarlo, podemos observar que hay ciertos grupos de edades en donde es mas frecuente faltar a clases con regularidad"
      ]
    },
    {
      "cell_type": "code",
      "metadata": {
        "colab": {
          "base_uri": "https://localhost:8080/",
          "height": 271
        },
        "id": "XfmncfvUnGiI",
        "outputId": "747378cc-6166-4d55-88e4-54162b30eae3"
      },
      "source": [
        "fam_data[fam_data['age']<21].sample(100).plot.hexbin(x='age', y='absences',gridsize=15)"
      ],
      "execution_count": null,
      "outputs": [
        {
          "output_type": "execute_result",
          "data": {
            "text/plain": [
              "<matplotlib.axes._subplots.AxesSubplot at 0x7f3f96f98710>"
            ]
          },
          "metadata": {},
          "execution_count": 103
        },
        {
          "output_type": "display_data",
          "data": {
            "image/png": "[encoded data removed]",
            "text/plain": [
              "<Figure size 432x288 with 2 Axes>"
            ]
          },
          "metadata": {
            "needs_background": "light"
          }
        }
      ]
    },
    {
      "cell_type": "code",
      "metadata": {
        "colab": {
          "base_uri": "https://localhost:8080/",
          "height": 275
        },
        "id": "AXCPCr15nNju",
        "outputId": "6aa7e543-cfc4-4ef0-a8ab-c11889de9d40"
      },
      "source": [
        "fam_data[fam_data['age']<21].sample(100).plot.hexbin(x='age', y='absences',gridsize=7)"
      ],
      "execution_count": null,
      "outputs": [
        {
          "output_type": "execute_result",
          "data": {
            "text/plain": [
              "<matplotlib.axes._subplots.AxesSubplot at 0x7f3f96e05b10>"
            ]
          },
          "metadata": {},
          "execution_count": 106
        },
        {
          "output_type": "display_data",
          "data": {
            "image/png": "[encoded data removed]",
            "text/plain": [
              "<Figure size 432x288 with 2 Axes>"
            ]
          },
          "metadata": {
            "needs_background": "light"
          }
        }
      ]
    },
    {
      "cell_type": "markdown",
      "metadata": {
        "id": "0tgnI3sd7hEg"
      },
      "source": [
        "Aqui podemos ver claramente que el numero de faltas en general va disminuyendo con la edad"
      ]
    },
    {
      "cell_type": "code",
      "metadata": {
        "colab": {
          "base_uri": "https://localhost:8080/",
          "height": 363
        },
        "id": "_grn0nXhqGoY",
        "outputId": "d9b92664-662a-444d-fc7a-bf4f596f8f8d"
      },
      "source": [
        "fam_gr = \"mat-grades.csv\"\n",
        "\n",
        "grades = pd.read_csv(fam_gr, parse_dates=True)\n",
        "\n",
        "grades.head(10)"
      ],
      "execution_count": null,
      "outputs": [
        {
          "output_type": "execute_result",
          "data": {
            "text/html": [
              "<div>\n",
              "<style scoped>\n",
              "    .dataframe tbody tr th:only-of-type {\n",
              "        vertical-align: middle;\n",
              "    }\n",
              "\n",
              "    .dataframe tbody tr th {\n",
              "        vertical-align: top;\n",
              "    }\n",
              "\n",
              "    .dataframe thead th {\n",
              "        text-align: right;\n",
              "    }\n",
              "</style>\n",
              "<table border=\"1\" class=\"dataframe\">\n",
              "  <thead>\n",
              "    <tr style=\"text-align: right;\">\n",
              "      <th></th>\n",
              "      <th>G1</th>\n",
              "      <th>G2</th>\n",
              "      <th>G3</th>\n",
              "    </tr>\n",
              "  </thead>\n",
              "  <tbody>\n",
              "    <tr>\n",
              "      <th>0</th>\n",
              "      <td>5</td>\n",
              "      <td>6</td>\n",
              "      <td>6</td>\n",
              "    </tr>\n",
              "    <tr>\n",
              "      <th>1</th>\n",
              "      <td>5</td>\n",
              "      <td>5</td>\n",
              "      <td>6</td>\n",
              "    </tr>\n",
              "    <tr>\n",
              "      <th>2</th>\n",
              "      <td>7</td>\n",
              "      <td>8</td>\n",
              "      <td>10</td>\n",
              "    </tr>\n",
              "    <tr>\n",
              "      <th>3</th>\n",
              "      <td>15</td>\n",
              "      <td>14</td>\n",
              "      <td>15</td>\n",
              "    </tr>\n",
              "    <tr>\n",
              "      <th>4</th>\n",
              "      <td>6</td>\n",
              "      <td>10</td>\n",
              "      <td>10</td>\n",
              "    </tr>\n",
              "    <tr>\n",
              "      <th>5</th>\n",
              "      <td>15</td>\n",
              "      <td>15</td>\n",
              "      <td>15</td>\n",
              "    </tr>\n",
              "    <tr>\n",
              "      <th>6</th>\n",
              "      <td>12</td>\n",
              "      <td>12</td>\n",
              "      <td>11</td>\n",
              "    </tr>\n",
              "    <tr>\n",
              "      <th>7</th>\n",
              "      <td>6</td>\n",
              "      <td>5</td>\n",
              "      <td>6</td>\n",
              "    </tr>\n",
              "    <tr>\n",
              "      <th>8</th>\n",
              "      <td>16</td>\n",
              "      <td>18</td>\n",
              "      <td>19</td>\n",
              "    </tr>\n",
              "    <tr>\n",
              "      <th>9</th>\n",
              "      <td>14</td>\n",
              "      <td>15</td>\n",
              "      <td>15</td>\n",
              "    </tr>\n",
              "  </tbody>\n",
              "</table>\n",
              "</div>"
            ],
            "text/plain": [
              "   G1  G2  G3\n",
              "0   5   6   6\n",
              "1   5   5   6\n",
              "2   7   8  10\n",
              "3  15  14  15\n",
              "4   6  10  10\n",
              "5  15  15  15\n",
              "6  12  12  11\n",
              "7   6   5   6\n",
              "8  16  18  19\n",
              "9  14  15  15"
            ]
          },
          "metadata": {},
          "execution_count": 149
        }
      ]
    },
    {
      "cell_type": "code",
      "metadata": {
        "colab": {
          "base_uri": "https://localhost:8080/",
          "height": 285
        },
        "id": "BdrY04RRrHdd",
        "outputId": "2ee338a4-2080-42c5-cad0-d24368cb559e"
      },
      "source": [
        "grades.head(30).plot.bar(stacked=True)"
      ],
      "execution_count": null,
      "outputs": [
        {
          "output_type": "execute_result",
          "data": {
            "text/plain": [
              "<matplotlib.axes._subplots.AxesSubplot at 0x7f3f9165f0d0>"
            ]
          },
          "metadata": {},
          "execution_count": 200
        },
        {
          "output_type": "display_data",
          "data": {
            "image/png": "[encoded data removed]",
            "text/plain": [
              "<Figure size 432x288 with 1 Axes>"
            ]
          },
          "metadata": {
            "needs_background": "light"
          }
        }
      ]
    },
    {
      "cell_type": "code",
      "metadata": {
        "colab": {
          "base_uri": "https://localhost:8080/",
          "height": 282
        },
        "id": "HtOakS0OrdB0",
        "outputId": "48a3fe6d-5061-4da0-a2de-02016cf7aa6f"
      },
      "source": [
        "grades.head(20).plot.area()"
      ],
      "execution_count": null,
      "outputs": [
        {
          "output_type": "execute_result",
          "data": {
            "text/plain": [
              "<matplotlib.axes._subplots.AxesSubplot at 0x7f3f952e7150>"
            ]
          },
          "metadata": {},
          "execution_count": 127
        },
        {
          "output_type": "display_data",
          "data": {
            "image/png": "[encoded data removed]",
            "text/plain": [
              "<Figure size 432x288 with 1 Axes>"
            ]
          },
          "metadata": {
            "needs_background": "light"
          }
        }
      ]
    },
    {
      "cell_type": "markdown",
      "metadata": {
        "id": "TZH_hn0S8L84"
      },
      "source": [
        "Tanto en esta grafica como en la anterior se queria encontrar una relacion entre las calificaciones obtenidas en los 3 periodos. Sin embargo, es mas facil identificarlo con la grafica siguiente."
      ]
    },
    {
      "cell_type": "code",
      "metadata": {
        "colab": {
          "base_uri": "https://localhost:8080/",
          "height": 282
        },
        "id": "45iShkBvr_BP",
        "outputId": "1dab96c4-8f1d-453a-e55f-651f7ca2bf3c"
      },
      "source": [
        "grades.head(20).plot.line()"
      ],
      "execution_count": null,
      "outputs": [
        {
          "output_type": "execute_result",
          "data": {
            "text/plain": [
              "<matplotlib.axes._subplots.AxesSubplot at 0x7f3f95287450>"
            ]
          },
          "metadata": {},
          "execution_count": 128
        },
        {
          "output_type": "display_data",
          "data": {
            "image/png": "[encoded data removed]",
            "text/plain": [
              "<Figure size 432x288 with 1 Axes>"
            ]
          },
          "metadata": {
            "needs_background": "light"
          }
        }
      ]
    },
    {
      "cell_type": "markdown",
      "metadata": {
        "id": "9srv3U2377IC"
      },
      "source": [
        "Este grafico de lineas nos muestra la relacion de las calificaciones de los 3 diferentes parciales y podemos observar que en general las calificaciones fueron mejores en el tercer parcial"
      ]
    },
    {
      "cell_type": "code",
      "metadata": {
        "colab": {
          "base_uri": "https://localhost:8080/",
          "height": 351
        },
        "id": "ImBXGMKWsFv_",
        "outputId": "c8cdec24-2e89-4845-d01b-3db84e23e7c3"
      },
      "source": [
        "sns.countplot(fam_data['G1'])"
      ],
      "execution_count": null,
      "outputs": [
        {
          "output_type": "stream",
          "name": "stderr",
          "text": [
            "/usr/local/lib/python3.7/dist-packages/seaborn/_decorators.py:43: FutureWarning: Pass the following variable as a keyword arg: x. From version 0.12, the only valid positional argument will be `data`, and passing other arguments without an explicit keyword will result in an error or misinterpretation.\n",
            "  FutureWarning\n"
          ]
        },
        {
          "output_type": "execute_result",
          "data": {
            "text/plain": [
              "<matplotlib.axes._subplots.AxesSubplot at 0x7f3f9504ce50>"
            ]
          },
          "metadata": {},
          "execution_count": 131
        },
        {
          "output_type": "display_data",
          "data": {
            "image/png": "[encoded data removed]",
            "text/plain": [
              "<Figure size 432x288 with 1 Axes>"
            ]
          },
          "metadata": {
            "needs_background": "light"
          }
        }
      ]
    },
    {
      "cell_type": "markdown",
      "metadata": {
        "id": "eXfNAgCa8kT5"
      },
      "source": [
        "Esta grafica nos muestra un conteo de las calificaciones obtenidas en el primer periodo, ademas de diferenciar cada calificacion con un color distintivo para mejor apreciacion."
      ]
    },
    {
      "cell_type": "code",
      "metadata": {
        "colab": {
          "base_uri": "https://localhost:8080/",
          "height": 296
        },
        "id": "nW1dHJggsktW",
        "outputId": "2d461ba6-e02b-473f-cb1a-1dc257b680c9"
      },
      "source": [
        "sns.kdeplot(fam_data.query('absences < 40').absences)"
      ],
      "execution_count": null,
      "outputs": [
        {
          "output_type": "execute_result",
          "data": {
            "text/plain": [
              "<matplotlib.axes._subplots.AxesSubplot at 0x7f3f92e608d0>"
            ]
          },
          "metadata": {},
          "execution_count": 135
        },
        {
          "output_type": "display_data",
          "data": {
            "image/png": "[encoded data removed]",
            "text/plain": [
              "<Figure size 432x288 with 1 Axes>"
            ]
          },
          "metadata": {
            "needs_background": "light"
          }
        }
      ]
    },
    {
      "cell_type": "markdown",
      "metadata": {
        "id": "6XtBsTnh80P9"
      },
      "source": [
        "Aqui podemos identificar la distribucion de las faltas por persona. Se ignoran los valores mayores a 40 debido a su escasez"
      ]
    },
    {
      "cell_type": "code",
      "metadata": {
        "colab": {
          "base_uri": "https://localhost:8080/",
          "height": 285
        },
        "id": "-PQHpNLKtrTJ",
        "outputId": "a0b614a3-0f84-4c54-b984-3b520d10912a"
      },
      "source": [
        "fam_data[fam_data['absences']<40]['absences'].value_counts().sort_index().plot.line()"
      ],
      "execution_count": null,
      "outputs": [
        {
          "output_type": "execute_result",
          "data": {
            "text/plain": [
              "<matplotlib.axes._subplots.AxesSubplot at 0x7f3f92dfe310>"
            ]
          },
          "metadata": {},
          "execution_count": 136
        },
        {
          "output_type": "display_data",
          "data": {
            "image/png": "[encoded data removed]",
            "text/plain": [
              "<Figure size 432x288 with 1 Axes>"
            ]
          },
          "metadata": {
            "needs_background": "light"
          }
        }
      ]
    },
    {
      "cell_type": "code",
      "metadata": {
        "colab": {
          "base_uri": "https://localhost:8080/",
          "height": 351
        },
        "id": "6YQVhGR0uE8T",
        "outputId": "e187d4d7-2979-4edb-8237-1be2ab410f45"
      },
      "source": [
        "sns.distplot(fam_data['G1'],bins=10,kde=False)"
      ],
      "execution_count": null,
      "outputs": [
        {
          "output_type": "stream",
          "name": "stderr",
          "text": [
            "/usr/local/lib/python3.7/dist-packages/seaborn/distributions.py:2619: FutureWarning: `distplot` is a deprecated function and will be removed in a future version. Please adapt your code to use either `displot` (a figure-level function with similar flexibility) or `histplot` (an axes-level function for histograms).\n",
            "  warnings.warn(msg, FutureWarning)\n"
          ]
        },
        {
          "output_type": "execute_result",
          "data": {
            "text/plain": [
              "<matplotlib.axes._subplots.AxesSubplot at 0x7f3f92caee50>"
            ]
          },
          "metadata": {},
          "execution_count": 160
        },
        {
          "output_type": "display_data",
          "data": {
            "image/png": "[encoded data removed]",
            "text/plain": [
              "<Figure size 432x288 with 1 Axes>"
            ]
          },
          "metadata": {
            "needs_background": "light"
          }
        }
      ]
    },
    {
      "cell_type": "code",
      "metadata": {
        "colab": {
          "base_uri": "https://localhost:8080/",
          "height": 458
        },
        "id": "-tt0w2i0yKDQ",
        "outputId": "da3f6be2-bcf4-41e6-80ec-49403d9a2481"
      },
      "source": [
        "sns.jointplot(x='Dalc',y='age',data=fam_data[fam_data['G1']<14])"
      ],
      "execution_count": null,
      "outputs": [
        {
          "output_type": "execute_result",
          "data": {
            "text/plain": [
              "<seaborn.axisgrid.JointGrid at 0x7f3f92a28a50>"
            ]
          },
          "metadata": {},
          "execution_count": 167
        },
        {
          "output_type": "display_data",
          "data": {
            "image/png": "[encoded data removed]",
            "text/plain": [
              "<Figure size 432x432 with 3 Axes>"
            ]
          },
          "metadata": {
            "needs_background": "light"
          }
        }
      ]
    },
    {
      "cell_type": "markdown",
      "metadata": {
        "id": "8V7c2LGT9PYR"
      },
      "source": [
        "Al igual que con el grafico de dispersion, es dificil encontrarle un buen uso a este debido a la naturaleza de los datos. Sin embargo, las graficas de  barras nos permiten visualizar que las personas mas jovenes tienden a tener un consumo menor de alcohol."
      ]
    },
    {
      "cell_type": "code",
      "metadata": {
        "colab": {
          "base_uri": "https://localhost:8080/",
          "height": 458
        },
        "id": "KBf9hwy6zL3k",
        "outputId": "28ecdc7e-35b4-4c63-9b94-dc4e77bbdcc0"
      },
      "source": [
        "sns.jointplot(x='Dalc',y='age',data=fam_data[fam_data['G1']<14], kind='hex',gridsize=20)"
      ],
      "execution_count": null,
      "outputs": [
        {
          "output_type": "execute_result",
          "data": {
            "text/plain": [
              "<seaborn.axisgrid.JointGrid at 0x7f3f928bcf10>"
            ]
          },
          "metadata": {},
          "execution_count": 170
        },
        {
          "output_type": "display_data",
          "data": {
            "image/png": "[encoded data removed]",
            "text/plain": [
              "<Figure size 432x432 with 3 Axes>"
            ]
          },
          "metadata": {
            "needs_background": "light"
          }
        }
      ]
    },
    {
      "cell_type": "markdown",
      "metadata": {
        "id": "gbDP-5GU9zeK"
      },
      "source": [
        "De igual manera a la grafica anterior, podemos visualizar claramente que las personas de 15, 16 y 17 años tienden a tener un consumo muy reducido de alcohol"
      ]
    },
    {
      "cell_type": "code",
      "metadata": {
        "colab": {
          "base_uri": "https://localhost:8080/",
          "height": 296
        },
        "id": "MdjMuziczbKP",
        "outputId": "72476565-1add-442d-be12-8f75964d6de9"
      },
      "source": [
        "df=fam_data[fam_data.famrel.isin(fam_data.famrel.value_counts().head(5).index)]\n",
        "sns.boxplot(\n",
        "    x='famrel',\n",
        "    y='Dalc',\n",
        "    data=df\n",
        ")"
      ],
      "execution_count": null,
      "outputs": [
        {
          "output_type": "execute_result",
          "data": {
            "text/plain": [
              "<matplotlib.axes._subplots.AxesSubplot at 0x7f3f9256bc90>"
            ]
          },
          "metadata": {},
          "execution_count": 177
        },
        {
          "output_type": "display_data",
          "data": {
            "image/png": "[encoded data removed]",
            "text/plain": [
              "<Figure size 432x288 with 1 Axes>"
            ]
          },
          "metadata": {
            "needs_background": "light"
          }
        }
      ]
    },
    {
      "cell_type": "code",
      "metadata": {
        "colab": {
          "base_uri": "https://localhost:8080/",
          "height": 296
        },
        "id": "fUD2Hn460NR5",
        "outputId": "0a833183-b530-4894-faa3-4c8bb032105a"
      },
      "source": [
        "sns.violinplot(\n",
        "      x='famrel',\n",
        "    y='Dalc',\n",
        "    data=df\n",
        ")"
      ],
      "execution_count": null,
      "outputs": [
        {
          "output_type": "execute_result",
          "data": {
            "text/plain": [
              "<matplotlib.axes._subplots.AxesSubplot at 0x7f3f924d1d90>"
            ]
          },
          "metadata": {},
          "execution_count": 178
        },
        {
          "output_type": "display_data",
          "data": {
            "image/png": "[encoded data removed]",
            "text/plain": [
              "<Figure size 432x288 with 1 Axes>"
            ]
          },
          "metadata": {
            "needs_background": "light"
          }
        }
      ]
    },
    {
      "cell_type": "code",
      "metadata": {
        "colab": {
          "base_uri": "https://localhost:8080/",
          "height": 567
        },
        "id": "TBAlUGzY0gyD",
        "outputId": "fbc64d74-c0a9-4af8-8e62-1b7dd1be059e"
      },
      "source": [
        "sns.pairplot(fam_data[['G1','G2','G3']])"
      ],
      "execution_count": null,
      "outputs": [
        {
          "output_type": "execute_result",
          "data": {
            "text/plain": [
              "<seaborn.axisgrid.PairGrid at 0x7f3f92447c50>"
            ]
          },
          "metadata": {},
          "execution_count": 180
        },
        {
          "output_type": "display_data",
          "data": {
            "image/png": "[encoded data removed]",
            "text/plain": [
              "<Figure size 540x540 with 12 Axes>"
            ]
          },
          "metadata": {
            "needs_background": "light"
          }
        }
      ]
    },
    {
      "cell_type": "markdown",
      "metadata": {
        "id": "mkQkFp60-KtV"
      },
      "source": [
        "Aqui claramente podemos observar que el primer parcial fue el que tuvo un mayor numero de calificaciones bajas y en promedio en tercero tuvo los mejores resultados"
      ]
    },
    {
      "cell_type": "code",
      "metadata": {
        "colab": {
          "base_uri": "https://localhost:8080/",
          "height": 386
        },
        "id": "iTGw2QW21C5F",
        "outputId": "7d5ba8a8-f0f4-431e-9bb2-f19ef33c51a2"
      },
      "source": [
        "sns.lmplot(x='G1',y='Walc',hue='sex',data=fam_data.loc[fam_data['sex'].isin(['F','M'])],fit_reg=False)"
      ],
      "execution_count": null,
      "outputs": [
        {
          "output_type": "execute_result",
          "data": {
            "text/plain": [
              "<seaborn.axisgrid.FacetGrid at 0x7f3f966ef910>"
            ]
          },
          "metadata": {},
          "execution_count": 193
        },
        {
          "output_type": "display_data",
          "data": {
            "image/png": "[encoded data removed]",
            "text/plain": [
              "<Figure size 404.625x360 with 1 Axes>"
            ]
          },
          "metadata": {
            "needs_background": "light"
          }
        }
      ]
    },
    {
      "cell_type": "code",
      "metadata": {
        "colab": {
          "base_uri": "https://localhost:8080/",
          "height": 266
        },
        "id": "nTPyj9BK3IXM",
        "outputId": "09fb4925-56e8-4f84-e8b7-1f767f94efa7"
      },
      "source": [
        "F=plt.hist(fam_data[fam_data['sex'] == \"F\"].G1,bins=30,fc = (1,0,0,0.5),label = \"Female\")\n",
        "M=plt.hist(fam_data[fam_data['sex'] == \"M\"].G1,bins=30,fc = (1,0,0,0.5),label = \"Male\")\n",
        "plt.legend()\n",
        "plt.show()"
      ],
      "execution_count": null,
      "outputs": [
        {
          "output_type": "display_data",
          "data": {
            "image/png": "[encoded data removed]",
            "text/plain": [
              "<Figure size 432x288 with 1 Axes>"
            ]
          },
          "metadata": {
            "needs_background": "light"
          }
        }
      ]
    },
    {
      "cell_type": "markdown",
      "metadata": {
        "id": "5Ices6Sb-iY2"
      },
      "source": [
        "En esta grafica podemos observar la relacion que hay entre la cantidad de alumnos hombres y mujeres en  las diferentes edades y notamos que contamos con mas alumnas que alumnos en casi todos los grupos de edad"
      ]
    },
    {
      "cell_type": "code",
      "metadata": {
        "colab": {
          "base_uri": "https://localhost:8080/",
          "height": 758
        },
        "id": "riKqxAPi_ES8",
        "outputId": "115b220b-6bed-460d-b75a-c15717b0c6f9"
      },
      "source": [
        "f,ax=plt.subplots(figsize = (12,12))\n",
        "sns.heatmap(df.corr(),annot= True,linewidths=0.5,fmt = \".1f\",ax=ax)\n",
        "plt.xticks(rotation=90)\n",
        "plt.yticks(rotation=0)\n",
        "plt.title('Mapa de correlación')\n",
        "plt.show()"
      ],
      "execution_count": null,
      "outputs": [
        {
          "output_type": "display_data",
          "data": {
            "image/png": "[encoded data removed]",
            "text/plain": [
              "<Figure size 864x864 with 2 Axes>"
            ]
          },
          "metadata": {
            "needs_background": "light"
          }
        }
      ]
    }
  ]
}